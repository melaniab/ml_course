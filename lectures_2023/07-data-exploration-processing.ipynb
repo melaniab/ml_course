{
 "cells": [
  {
   "cell_type": "markdown",
   "metadata": {
    "slideshow": {
     "slide_type": "slide"
    }
   },
   "source": [
    "# Разглеждане на данните, трениране на модел и оптимизиране"
   ]
  },
  {
   "cell_type": "markdown",
   "metadata": {},
   "source": [
    "Тук ще опитаме да видим малко \"machine learning на практика\". Ще разгледаме набор от данни от Kaggle, ще си поиграем с него и ще се опитаме да направим регресор, който да вади добри резултати. Идеята е да видим как изглежда процеса на решаване на реален проблем.\n",
    "\n",
    "Целите днес: \n",
    "- да разгледаме данни от Kaggle състезание\n",
    "- четене, разучаване и обработка на данни с `pandas`\n",
    "- графики, описващи данните на `seaborn`\n",
    "- създаване на базов (*baseline*) модел и итеративното му подобряване\n",
    "\n",
    "Нека да започнем с малко библиотеки:"
   ]
  },
  {
   "cell_type": "code",
   "execution_count": 1,
   "metadata": {
    "slideshow": {
     "slide_type": "slide"
    }
   },
   "outputs": [],
   "source": [
    "import sys\n",
    "import numpy as np\n",
    "import sklearn\n",
    "import pandas as pd\n",
    "import matplotlib as mpl\n",
    "import matplotlib.pyplot as plt\n",
    "import seaborn as sns\n",
    "import warnings\n",
    "warnings.simplefilter(action='ignore', category=FutureWarning)\n",
    "\n",
    "%matplotlib inline"
   ]
  },
  {
   "cell_type": "markdown",
   "metadata": {
    "slideshow": {
     "slide_type": "slide"
    }
   },
   "source": [
    "Може да изтеглите данните, с които ще работим, от тук:\n",
    "\n",
    "https://www.kaggle.com/c/house-prices-advanced-regression-techniques/data\n",
    "\n",
    "Трябат ви поне `train.csv` и `test.csv`, които да поставите в `data/house-prices` спрямо директорията в която е notebook-а."
   ]
  },
  {
   "cell_type": "markdown",
   "metadata": {
    "slideshow": {
     "slide_type": "slide"
    }
   },
   "source": [
    "### Да заредим данните и да погледнем какво имаме:"
   ]
  },
  {
   "cell_type": "code",
   "execution_count": 4,
   "metadata": {},
   "outputs": [
    {
     "data": {
      "text/plain": [
       "['data_description.txt',\n",
       " 'house-prices-advanced-regression-techniques.zip',\n",
       " 'sample_submission.csv',\n",
       " 'test.csv',\n",
       " 'train.csv']"
      ]
     },
     "execution_count": 4,
     "metadata": {},
     "output_type": "execute_result"
    }
   ],
   "source": [
    "import os \n",
    "os.listdir('data')"
   ]
  },
  {
   "cell_type": "code",
   "execution_count": 5,
   "metadata": {
    "slideshow": {
     "slide_type": "-"
    }
   },
   "outputs": [],
   "source": [
    "train = pd.read_csv('data/house-prices/train.csv', index_col=['Id'])\n",
    "test = pd.read_csv('data/house-prices/test.csv', index_col=['Id'])"
   ]
  },
  {
   "cell_type": "markdown",
   "metadata": {},
   "source": [
    "Нека да видим каква е формата на данните. Атрибутът `shape` връща размерността на данните (редове и колони)."
   ]
  },
  {
   "cell_type": "code",
   "execution_count": 6,
   "metadata": {
    "slideshow": {
     "slide_type": "-"
    }
   },
   "outputs": [
    {
     "name": "stdout",
     "output_type": "stream",
     "text": [
      "train: (1460, 80)\n",
      "test: (1459, 79)\n"
     ]
    }
   ],
   "source": [
    "print('train:', train.shape)\n",
    "print('test:', test.shape)"
   ]
  },
  {
   "cell_type": "markdown",
   "metadata": {
    "slideshow": {
     "slide_type": "slide"
    }
   },
   "source": [
    "В test има една колона по-малко. Нека да видим коя е:"
   ]
  },
  {
   "cell_type": "code",
   "execution_count": 7,
   "metadata": {
    "slideshow": {
     "slide_type": "-"
    }
   },
   "outputs": [
    {
     "name": "stdout",
     "output_type": "stream",
     "text": [
      "missing column: {'SalePrice'}\n"
     ]
    }
   ],
   "source": [
    "print('missing column:', set(train.columns) - set(test.columns))"
   ]
  },
  {
   "cell_type": "markdown",
   "metadata": {
    "slideshow": {
     "slide_type": "slide"
    }
   },
   "source": [
    "Ще работим с трейн сета. С тестовия няма какво да правим, защото липсва колоната, която предсказваме."
   ]
  },
  {
   "cell_type": "code",
   "execution_count": 8,
   "metadata": {
    "slideshow": {
     "slide_type": "-"
    }
   },
   "outputs": [],
   "source": [
    "del test\n",
    "# Това го нямаше на python лекцията. Помага да осовобидм памет, когато ни е нужна. Без да убиваме процеса."
   ]
  },
  {
   "cell_type": "markdown",
   "metadata": {
    "slideshow": {
     "slide_type": "slide"
    }
   },
   "source": [
    "## Проучване (разглеждане) на данните (data exploration)\n",
    "\n",
    "Ще се опитаме да разберем какво има в предоставените данни. Ще започнем с тренировъчното множество."
   ]
  },
  {
   "cell_type": "code",
   "execution_count": 9,
   "metadata": {},
   "outputs": [
    {
     "data": {
      "text/plain": [
       "Index(['MSSubClass', 'MSZoning', 'LotFrontage', 'LotArea', 'Street', 'Alley',\n",
       "       'LotShape', 'LandContour', 'Utilities', 'LotConfig', 'LandSlope',\n",
       "       'Neighborhood', 'Condition1', 'Condition2', 'BldgType', 'HouseStyle',\n",
       "       'OverallQual', 'OverallCond', 'YearBuilt', 'YearRemodAdd', 'RoofStyle',\n",
       "       'RoofMatl', 'Exterior1st', 'Exterior2nd', 'MasVnrType', 'MasVnrArea',\n",
       "       'ExterQual', 'ExterCond', 'Foundation', 'BsmtQual', 'BsmtCond',\n",
       "       'BsmtExposure', 'BsmtFinType1', 'BsmtFinSF1', 'BsmtFinType2',\n",
       "       'BsmtFinSF2', 'BsmtUnfSF', 'TotalBsmtSF', 'Heating', 'HeatingQC',\n",
       "       'CentralAir', 'Electrical', '1stFlrSF', '2ndFlrSF', 'LowQualFinSF',\n",
       "       'GrLivArea', 'BsmtFullBath', 'BsmtHalfBath', 'FullBath', 'HalfBath',\n",
       "       'BedroomAbvGr', 'KitchenAbvGr', 'KitchenQual', 'TotRmsAbvGrd',\n",
       "       'Functional', 'Fireplaces', 'FireplaceQu', 'GarageType', 'GarageYrBlt',\n",
       "       'GarageFinish', 'GarageCars', 'GarageArea', 'GarageQual', 'GarageCond',\n",
       "       'PavedDrive', 'WoodDeckSF', 'OpenPorchSF', 'EnclosedPorch', '3SsnPorch',\n",
       "       'ScreenPorch', 'PoolArea', 'PoolQC', 'Fence', 'MiscFeature', 'MiscVal',\n",
       "       'MoSold', 'YrSold', 'SaleType', 'SaleCondition', 'SalePrice'],\n",
       "      dtype='object')"
      ]
     },
     "execution_count": 9,
     "metadata": {},
     "output_type": "execute_result"
    }
   ],
   "source": [
    "train.columns"
   ]
  },
  {
   "cell_type": "markdown",
   "metadata": {
    "slideshow": {
     "slide_type": "slide"
    }
   },
   "source": [
    "### Има и файл с обяснения за всяка колона:"
   ]
  },
  {
   "cell_type": "code",
   "execution_count": 11,
   "metadata": {
    "scrolled": false
   },
   "outputs": [
    {
     "name": "stdout",
     "output_type": "stream",
     "text": [
      "MSSubClass: Identifies the type of dwelling involved in the sale.\t\n",
      "\n",
      "\n",
      "\n",
      "        20\t1-STORY 1946 & NEWER ALL STYLES\n",
      "\n",
      "        30\t1-STORY 1945 & OLDER\n",
      "\n",
      "        40\t1-STORY W/FINISHED ATTIC ALL AGES\n",
      "\n",
      "        45\t1-1/2 STORY - UNFINISHED ALL AGES\n",
      "\n",
      "        50\t1-1/2 STORY FINISHED ALL AGES\n",
      "\n",
      "        60\t2-STORY 1946 & NEWER\n",
      "\n",
      "        70\t2-STORY 1945 & OLDER\n",
      "\n",
      "        75\t2-1/2 STORY ALL AGES\n",
      "\n"
     ]
    }
   ],
   "source": [
    "# Linux \n",
    "#!head -25 data/house-prices/data_description.txt\n",
    "\n",
    "# The pythonic way \n",
    "train_file_path = \"data/house-prices/data_description.txt\"\n",
    "with open(train_file_path) as f:\n",
    "    for _ in range(10): # first 10 lines\n",
    "        print(f.readline())"
   ]
  },
  {
   "cell_type": "markdown",
   "metadata": {
    "slideshow": {
     "slide_type": "slide"
    }
   },
   "source": [
    "Може да видим статистика какви стойности има в дадена колона и разпределението им с pandas метода `value_counts()`.\n",
    "\n",
    "С параметъра `normalize=True` можем да гледаме данните и като проценти."
   ]
  },
  {
   "cell_type": "code",
   "execution_count": 12,
   "metadata": {
    "slideshow": {
     "slide_type": "subslide"
    }
   },
   "outputs": [
    {
     "name": "stdout",
     "output_type": "stream",
     "text": [
      "Lvl    1311\n",
      "Bnk      63\n",
      "HLS      50\n",
      "Low      36\n",
      "Name: LandContour, dtype: int64\n"
     ]
    }
   ],
   "source": [
    "print(train.LandContour.value_counts())"
   ]
  },
  {
   "cell_type": "code",
   "execution_count": 13,
   "metadata": {},
   "outputs": [
    {
     "name": "stdout",
     "output_type": "stream",
     "text": [
      "Lvl    0.897945\n",
      "Bnk    0.043151\n",
      "HLS    0.034247\n",
      "Low    0.024658\n",
      "Name: LandContour, dtype: float64\n"
     ]
    }
   ],
   "source": [
    "print(train.LandContour.value_counts(normalize=True))"
   ]
  },
  {
   "cell_type": "code",
   "execution_count": 14,
   "metadata": {
    "slideshow": {
     "slide_type": "subslide"
    }
   },
   "outputs": [
    {
     "name": "stdout",
     "output_type": "stream",
     "text": [
      "SBrkr    1334\n",
      "FuseA      94\n",
      "FuseF      27\n",
      "FuseP       3\n",
      "Mix         1\n",
      "Name: Electrical, dtype: int64\n"
     ]
    }
   ],
   "source": [
    "print(train.Electrical.value_counts())"
   ]
  },
  {
   "cell_type": "code",
   "execution_count": 15,
   "metadata": {
    "slideshow": {
     "slide_type": "subslide"
    }
   },
   "outputs": [
    {
     "name": "stdout",
     "output_type": "stream",
     "text": [
      "Grvl    50\n",
      "Pave    41\n",
      "Name: Alley, dtype: int64\n"
     ]
    }
   ],
   "source": [
    "print(train.Alley.value_counts())"
   ]
  },
  {
   "cell_type": "code",
   "execution_count": 16,
   "metadata": {
    "slideshow": {
     "slide_type": "subslide"
    }
   },
   "outputs": [
    {
     "name": "stdout",
     "output_type": "stream",
     "text": [
      "2    768\n",
      "1    650\n",
      "3     33\n",
      "0      9\n",
      "Name: FullBath, dtype: int64\n"
     ]
    }
   ],
   "source": [
    "print(train.FullBath.value_counts())"
   ]
  },
  {
   "cell_type": "markdown",
   "metadata": {
    "slideshow": {
     "slide_type": "subslide"
    }
   },
   "source": [
    "`Pandas` може да показва и графики:"
   ]
  },
  {
   "cell_type": "code",
   "execution_count": 17,
   "metadata": {
    "slideshow": {
     "slide_type": "-"
    }
   },
   "outputs": [
    {
     "data": {
      "image/png": "[encoded data removed]",
      "text/plain": [
       "<Figure size 432x288 with 1 Axes>"
      ]
     },
     "metadata": {
      "needs_background": "light"
     },
     "output_type": "display_data"
    }
   ],
   "source": [
    "train.FullBath.value_counts().plot(kind='bar');"
   ]
  },
  {
   "cell_type": "markdown",
   "metadata": {
    "slideshow": {
     "slide_type": "slide"
    }
   },
   "source": [
    "### Какво ще предсказваме - Цена на имот\n",
    "\n",
    "Да погледнем какво разпределение имат данните."
   ]
  },
  {
   "cell_type": "code",
   "execution_count": 19,
   "metadata": {
    "slideshow": {
     "slide_type": "subslide"
    }
   },
   "outputs": [
    {
     "data": {
      "image/png": "[encoded data removed]",
      "text/plain": [
       "<Figure size 432x288 with 1 Axes>"
      ]
     },
     "metadata": {
      "needs_background": "light"
     },
     "output_type": "display_data"
    }
   ],
   "source": [
    "sns.distplot(train.SalePrice);"
   ]
  },
  {
   "cell_type": "markdown",
   "metadata": {
    "slideshow": {
     "slide_type": "slide"
    }
   },
   "source": [
    "Ще започнем с базов (*baseline*) модел. Идеята е възможно най-бързо да намерим отправна точка, която да подобряваме.\n",
    "\n",
    "Първо трябва да разделим данните на `x_train`, `y_train`, `x_test` и `y_test` за да проверим дали моделът генерализира."
   ]
  },
  {
   "cell_type": "code",
   "execution_count": 20,
   "metadata": {},
   "outputs": [],
   "source": [
    "from sklearn.model_selection import train_test_split\n",
    "\n",
    "train_no_sale_price = train.drop(labels=['SalePrice'], axis=1)\n",
    "train_sale_price = train['SalePrice']\n",
    "\n",
    "x_train, x_test, y_train, y_test = train_test_split(train_no_sale_price, \n",
    "                                                    train_sale_price, \n",
    "                                                    test_size=0.3, \n",
    "                                                    random_state=4330)"
   ]
  },
  {
   "cell_type": "markdown",
   "metadata": {
    "slideshow": {
     "slide_type": "slide"
    }
   },
   "source": [
    "Дали не сме забравили какво връща `train_test_split`? Нека видим какви размери имат новите променливи:"
   ]
  },
  {
   "cell_type": "code",
   "execution_count": 21,
   "metadata": {
    "slideshow": {
     "slide_type": "subslide"
    }
   },
   "outputs": [
    {
     "name": "stdout",
     "output_type": "stream",
     "text": [
      "(1022, 79)\n",
      "(438, 79)\n",
      "(1022,)\n",
      "(438,)\n"
     ]
    }
   ],
   "source": [
    "for df in [x_train, x_test, y_train, y_test]:\n",
    "    print(df.shape)"
   ]
  },
  {
   "cell_type": "markdown",
   "metadata": {
    "slideshow": {
     "slide_type": "slide"
    }
   },
   "source": [
    "Нека започнем с линейна регресия:"
   ]
  },
  {
   "cell_type": "code",
   "execution_count": 22,
   "metadata": {
    "slideshow": {
     "slide_type": "subslide"
    }
   },
   "outputs": [
    {
     "ename": "ValueError",
     "evalue": "could not convert string to float: 'RM'",
     "output_type": "error",
     "traceback": [
      "\u001b[1;31m---------------------------------------------------------------------------\u001b[0m",
      "\u001b[1;31mValueError\u001b[0m                                Traceback (most recent call last)",
      "\u001b[1;32m<ipython-input-22-aedb0d5c4121>\u001b[0m in \u001b[0;36m<module>\u001b[1;34m\u001b[0m\n\u001b[0;32m      2\u001b[0m \u001b[1;33m\u001b[0m\u001b[0m\n\u001b[0;32m      3\u001b[0m \u001b[0mregressor\u001b[0m \u001b[1;33m=\u001b[0m \u001b[0mLinearRegression\u001b[0m\u001b[1;33m(\u001b[0m\u001b[1;33m)\u001b[0m\u001b[1;33m\u001b[0m\u001b[1;33m\u001b[0m\u001b[0m\n\u001b[1;32m----> 4\u001b[1;33m \u001b[0mregressor\u001b[0m\u001b[1;33m.\u001b[0m\u001b[0mfit\u001b[0m\u001b[1;33m(\u001b[0m\u001b[0mx_train\u001b[0m\u001b[1;33m,\u001b[0m \u001b[0my_train\u001b[0m\u001b[1;33m)\u001b[0m\u001b[1;33m\u001b[0m\u001b[1;33m\u001b[0m\u001b[0m\n\u001b[0m",
      "\u001b[1;32m~anaconda3\\envs\\ml_course_2023\\lib\\site-packages\\sklearn\\linear_model\\_base.py\u001b[0m in \u001b[0;36mfit\u001b[1;34m(self, X, y, sample_weight)\u001b[0m\n\u001b[0;32m    517\u001b[0m \u001b[1;33m\u001b[0m\u001b[0m\n\u001b[0;32m    518\u001b[0m         X, y = self._validate_data(X, y, accept_sparse=accept_sparse,\n\u001b[1;32m--> 519\u001b[1;33m                                    y_numeric=True, multi_output=True)\n\u001b[0m\u001b[0;32m    520\u001b[0m \u001b[1;33m\u001b[0m\u001b[0m\n\u001b[0;32m    521\u001b[0m         \u001b[1;32mif\u001b[0m \u001b[0msample_weight\u001b[0m \u001b[1;32mis\u001b[0m \u001b[1;32mnot\u001b[0m \u001b[1;32mNone\u001b[0m\u001b[1;33m:\u001b[0m\u001b[1;33m\u001b[0m\u001b[1;33m\u001b[0m\u001b[0m\n",
      "\u001b[1;32m~anaconda3\\envs\\ml_course_2023\\lib\\site-packages\\sklearn\\base.py\u001b[0m in \u001b[0;36m_validate_data\u001b[1;34m(self, X, y, reset, validate_separately, **check_params)\u001b[0m\n\u001b[0;32m    431\u001b[0m                 \u001b[0my\u001b[0m \u001b[1;33m=\u001b[0m \u001b[0mcheck_array\u001b[0m\u001b[1;33m(\u001b[0m\u001b[0my\u001b[0m\u001b[1;33m,\u001b[0m \u001b[1;33m**\u001b[0m\u001b[0mcheck_y_params\u001b[0m\u001b[1;33m)\u001b[0m\u001b[1;33m\u001b[0m\u001b[1;33m\u001b[0m\u001b[0m\n\u001b[0;32m    432\u001b[0m             \u001b[1;32melse\u001b[0m\u001b[1;33m:\u001b[0m\u001b[1;33m\u001b[0m\u001b[1;33m\u001b[0m\u001b[0m\n\u001b[1;32m--> 433\u001b[1;33m                 \u001b[0mX\u001b[0m\u001b[1;33m,\u001b[0m \u001b[0my\u001b[0m \u001b[1;33m=\u001b[0m \u001b[0mcheck_X_y\u001b[0m\u001b[1;33m(\u001b[0m\u001b[0mX\u001b[0m\u001b[1;33m,\u001b[0m \u001b[0my\u001b[0m\u001b[1;33m,\u001b[0m \u001b[1;33m**\u001b[0m\u001b[0mcheck_params\u001b[0m\u001b[1;33m)\u001b[0m\u001b[1;33m\u001b[0m\u001b[1;33m\u001b[0m\u001b[0m\n\u001b[0m\u001b[0;32m    434\u001b[0m             \u001b[0mout\u001b[0m \u001b[1;33m=\u001b[0m \u001b[0mX\u001b[0m\u001b[1;33m,\u001b[0m \u001b[0my\u001b[0m\u001b[1;33m\u001b[0m\u001b[1;33m\u001b[0m\u001b[0m\n\u001b[0;32m    435\u001b[0m \u001b[1;33m\u001b[0m\u001b[0m\n",
      "\u001b[1;32m~anaconda3\\envs\\ml_course_2023\\lib\\site-packages\\sklearn\\utils\\validation.py\u001b[0m in \u001b[0;36minner_f\u001b[1;34m(*args, **kwargs)\u001b[0m\n\u001b[0;32m     61\u001b[0m             \u001b[0mextra_args\u001b[0m \u001b[1;33m=\u001b[0m \u001b[0mlen\u001b[0m\u001b[1;33m(\u001b[0m\u001b[0margs\u001b[0m\u001b[1;33m)\u001b[0m \u001b[1;33m-\u001b[0m \u001b[0mlen\u001b[0m\u001b[1;33m(\u001b[0m\u001b[0mall_args\u001b[0m\u001b[1;33m)\u001b[0m\u001b[1;33m\u001b[0m\u001b[1;33m\u001b[0m\u001b[0m\n\u001b[0;32m     62\u001b[0m             \u001b[1;32mif\u001b[0m \u001b[0mextra_args\u001b[0m \u001b[1;33m<=\u001b[0m \u001b[1;36m0\u001b[0m\u001b[1;33m:\u001b[0m\u001b[1;33m\u001b[0m\u001b[1;33m\u001b[0m\u001b[0m\n\u001b[1;32m---> 63\u001b[1;33m                 \u001b[1;32mreturn\u001b[0m \u001b[0mf\u001b[0m\u001b[1;33m(\u001b[0m\u001b[1;33m*\u001b[0m\u001b[0margs\u001b[0m\u001b[1;33m,\u001b[0m \u001b[1;33m**\u001b[0m\u001b[0mkwargs\u001b[0m\u001b[1;33m)\u001b[0m\u001b[1;33m\u001b[0m\u001b[1;33m\u001b[0m\u001b[0m\n\u001b[0m\u001b[0;32m     64\u001b[0m \u001b[1;33m\u001b[0m\u001b[0m\n\u001b[0;32m     65\u001b[0m             \u001b[1;31m# extra_args > 0\u001b[0m\u001b[1;33m\u001b[0m\u001b[1;33m\u001b[0m\u001b[1;33m\u001b[0m\u001b[0m\n",
      "\u001b[1;32m~anaconda3\\envs\\ml_course_2023\\lib\\site-packages\\sklearn\\utils\\validation.py\u001b[0m in \u001b[0;36mcheck_X_y\u001b[1;34m(X, y, accept_sparse, accept_large_sparse, dtype, order, copy, force_all_finite, ensure_2d, allow_nd, multi_output, ensure_min_samples, ensure_min_features, y_numeric, estimator)\u001b[0m\n\u001b[0;32m    876\u001b[0m                     \u001b[0mensure_min_samples\u001b[0m\u001b[1;33m=\u001b[0m\u001b[0mensure_min_samples\u001b[0m\u001b[1;33m,\u001b[0m\u001b[1;33m\u001b[0m\u001b[1;33m\u001b[0m\u001b[0m\n\u001b[0;32m    877\u001b[0m                     \u001b[0mensure_min_features\u001b[0m\u001b[1;33m=\u001b[0m\u001b[0mensure_min_features\u001b[0m\u001b[1;33m,\u001b[0m\u001b[1;33m\u001b[0m\u001b[1;33m\u001b[0m\u001b[0m\n\u001b[1;32m--> 878\u001b[1;33m                     estimator=estimator)\n\u001b[0m\u001b[0;32m    879\u001b[0m     \u001b[1;32mif\u001b[0m \u001b[0mmulti_output\u001b[0m\u001b[1;33m:\u001b[0m\u001b[1;33m\u001b[0m\u001b[1;33m\u001b[0m\u001b[0m\n\u001b[0;32m    880\u001b[0m         y = check_array(y, accept_sparse='csr', force_all_finite=True,\n",
      "\u001b[1;32m~anaconda3\\envs\\ml_course_2023\\lib\\site-packages\\sklearn\\utils\\validation.py\u001b[0m in \u001b[0;36minner_f\u001b[1;34m(*args, **kwargs)\u001b[0m\n\u001b[0;32m     61\u001b[0m             \u001b[0mextra_args\u001b[0m \u001b[1;33m=\u001b[0m \u001b[0mlen\u001b[0m\u001b[1;33m(\u001b[0m\u001b[0margs\u001b[0m\u001b[1;33m)\u001b[0m \u001b[1;33m-\u001b[0m \u001b[0mlen\u001b[0m\u001b[1;33m(\u001b[0m\u001b[0mall_args\u001b[0m\u001b[1;33m)\u001b[0m\u001b[1;33m\u001b[0m\u001b[1;33m\u001b[0m\u001b[0m\n\u001b[0;32m     62\u001b[0m             \u001b[1;32mif\u001b[0m \u001b[0mextra_args\u001b[0m \u001b[1;33m<=\u001b[0m \u001b[1;36m0\u001b[0m\u001b[1;33m:\u001b[0m\u001b[1;33m\u001b[0m\u001b[1;33m\u001b[0m\u001b[0m\n\u001b[1;32m---> 63\u001b[1;33m                 \u001b[1;32mreturn\u001b[0m \u001b[0mf\u001b[0m\u001b[1;33m(\u001b[0m\u001b[1;33m*\u001b[0m\u001b[0margs\u001b[0m\u001b[1;33m,\u001b[0m \u001b[1;33m**\u001b[0m\u001b[0mkwargs\u001b[0m\u001b[1;33m)\u001b[0m\u001b[1;33m\u001b[0m\u001b[1;33m\u001b[0m\u001b[0m\n\u001b[0m\u001b[0;32m     64\u001b[0m \u001b[1;33m\u001b[0m\u001b[0m\n\u001b[0;32m     65\u001b[0m             \u001b[1;31m# extra_args > 0\u001b[0m\u001b[1;33m\u001b[0m\u001b[1;33m\u001b[0m\u001b[1;33m\u001b[0m\u001b[0m\n",
      "\u001b[1;32m~anaconda3\\envs\\ml_course_2023\\lib\\site-packages\\sklearn\\utils\\validation.py\u001b[0m in \u001b[0;36mcheck_array\u001b[1;34m(array, accept_sparse, accept_large_sparse, dtype, order, copy, force_all_finite, ensure_2d, allow_nd, ensure_min_samples, ensure_min_features, estimator)\u001b[0m\n\u001b[0;32m    671\u001b[0m                     \u001b[0marray\u001b[0m \u001b[1;33m=\u001b[0m \u001b[0marray\u001b[0m\u001b[1;33m.\u001b[0m\u001b[0mastype\u001b[0m\u001b[1;33m(\u001b[0m\u001b[0mdtype\u001b[0m\u001b[1;33m,\u001b[0m \u001b[0mcasting\u001b[0m\u001b[1;33m=\u001b[0m\u001b[1;34m\"unsafe\"\u001b[0m\u001b[1;33m,\u001b[0m \u001b[0mcopy\u001b[0m\u001b[1;33m=\u001b[0m\u001b[1;32mFalse\u001b[0m\u001b[1;33m)\u001b[0m\u001b[1;33m\u001b[0m\u001b[1;33m\u001b[0m\u001b[0m\n\u001b[0;32m    672\u001b[0m                 \u001b[1;32melse\u001b[0m\u001b[1;33m:\u001b[0m\u001b[1;33m\u001b[0m\u001b[1;33m\u001b[0m\u001b[0m\n\u001b[1;32m--> 673\u001b[1;33m                     \u001b[0marray\u001b[0m \u001b[1;33m=\u001b[0m \u001b[0mnp\u001b[0m\u001b[1;33m.\u001b[0m\u001b[0masarray\u001b[0m\u001b[1;33m(\u001b[0m\u001b[0marray\u001b[0m\u001b[1;33m,\u001b[0m \u001b[0morder\u001b[0m\u001b[1;33m=\u001b[0m\u001b[0morder\u001b[0m\u001b[1;33m,\u001b[0m \u001b[0mdtype\u001b[0m\u001b[1;33m=\u001b[0m\u001b[0mdtype\u001b[0m\u001b[1;33m)\u001b[0m\u001b[1;33m\u001b[0m\u001b[1;33m\u001b[0m\u001b[0m\n\u001b[0m\u001b[0;32m    674\u001b[0m             \u001b[1;32mexcept\u001b[0m \u001b[0mComplexWarning\u001b[0m \u001b[1;32mas\u001b[0m \u001b[0mcomplex_warning\u001b[0m\u001b[1;33m:\u001b[0m\u001b[1;33m\u001b[0m\u001b[1;33m\u001b[0m\u001b[0m\n\u001b[0;32m    675\u001b[0m                 raise ValueError(\"Complex data not supported\\n\"\n",
      "\u001b[1;32m~anaconda3\\envs\\ml_course_2023\\lib\\site-packages\\numpy\\core\\_asarray.py\u001b[0m in \u001b[0;36masarray\u001b[1;34m(a, dtype, order)\u001b[0m\n\u001b[0;32m     81\u001b[0m \u001b[1;33m\u001b[0m\u001b[0m\n\u001b[0;32m     82\u001b[0m     \"\"\"\n\u001b[1;32m---> 83\u001b[1;33m     \u001b[1;32mreturn\u001b[0m \u001b[0marray\u001b[0m\u001b[1;33m(\u001b[0m\u001b[0ma\u001b[0m\u001b[1;33m,\u001b[0m \u001b[0mdtype\u001b[0m\u001b[1;33m,\u001b[0m \u001b[0mcopy\u001b[0m\u001b[1;33m=\u001b[0m\u001b[1;32mFalse\u001b[0m\u001b[1;33m,\u001b[0m \u001b[0morder\u001b[0m\u001b[1;33m=\u001b[0m\u001b[0morder\u001b[0m\u001b[1;33m)\u001b[0m\u001b[1;33m\u001b[0m\u001b[1;33m\u001b[0m\u001b[0m\n\u001b[0m\u001b[0;32m     84\u001b[0m \u001b[1;33m\u001b[0m\u001b[0m\n\u001b[0;32m     85\u001b[0m \u001b[1;33m\u001b[0m\u001b[0m\n",
      "\u001b[1;32m~anaconda3\\envs\\ml_course_2023\\lib\\site-packages\\pandas\\core\\generic.py\u001b[0m in \u001b[0;36m__array__\u001b[1;34m(self, dtype)\u001b[0m\n\u001b[0;32m   1779\u001b[0m \u001b[1;33m\u001b[0m\u001b[0m\n\u001b[0;32m   1780\u001b[0m     \u001b[1;32mdef\u001b[0m \u001b[0m__array__\u001b[0m\u001b[1;33m(\u001b[0m\u001b[0mself\u001b[0m\u001b[1;33m,\u001b[0m \u001b[0mdtype\u001b[0m\u001b[1;33m=\u001b[0m\u001b[1;32mNone\u001b[0m\u001b[1;33m)\u001b[0m \u001b[1;33m->\u001b[0m \u001b[0mnp\u001b[0m\u001b[1;33m.\u001b[0m\u001b[0mndarray\u001b[0m\u001b[1;33m:\u001b[0m\u001b[1;33m\u001b[0m\u001b[1;33m\u001b[0m\u001b[0m\n\u001b[1;32m-> 1781\u001b[1;33m         \u001b[1;32mreturn\u001b[0m \u001b[0mnp\u001b[0m\u001b[1;33m.\u001b[0m\u001b[0masarray\u001b[0m\u001b[1;33m(\u001b[0m\u001b[0mself\u001b[0m\u001b[1;33m.\u001b[0m\u001b[0m_values\u001b[0m\u001b[1;33m,\u001b[0m \u001b[0mdtype\u001b[0m\u001b[1;33m=\u001b[0m\u001b[0mdtype\u001b[0m\u001b[1;33m)\u001b[0m\u001b[1;33m\u001b[0m\u001b[1;33m\u001b[0m\u001b[0m\n\u001b[0m\u001b[0;32m   1782\u001b[0m \u001b[1;33m\u001b[0m\u001b[0m\n\u001b[0;32m   1783\u001b[0m     \u001b[1;32mdef\u001b[0m \u001b[0m__array_wrap__\u001b[0m\u001b[1;33m(\u001b[0m\u001b[0mself\u001b[0m\u001b[1;33m,\u001b[0m \u001b[0mresult\u001b[0m\u001b[1;33m,\u001b[0m \u001b[0mcontext\u001b[0m\u001b[1;33m=\u001b[0m\u001b[1;32mNone\u001b[0m\u001b[1;33m)\u001b[0m\u001b[1;33m:\u001b[0m\u001b[1;33m\u001b[0m\u001b[1;33m\u001b[0m\u001b[0m\n",
      "\u001b[1;32m~anaconda3\\envs\\ml_course_2023\\lib\\site-packages\\numpy\\core\\_asarray.py\u001b[0m in \u001b[0;36masarray\u001b[1;34m(a, dtype, order)\u001b[0m\n\u001b[0;32m     81\u001b[0m \u001b[1;33m\u001b[0m\u001b[0m\n\u001b[0;32m     82\u001b[0m     \"\"\"\n\u001b[1;32m---> 83\u001b[1;33m     \u001b[1;32mreturn\u001b[0m \u001b[0marray\u001b[0m\u001b[1;33m(\u001b[0m\u001b[0ma\u001b[0m\u001b[1;33m,\u001b[0m \u001b[0mdtype\u001b[0m\u001b[1;33m,\u001b[0m \u001b[0mcopy\u001b[0m\u001b[1;33m=\u001b[0m\u001b[1;32mFalse\u001b[0m\u001b[1;33m,\u001b[0m \u001b[0morder\u001b[0m\u001b[1;33m=\u001b[0m\u001b[0morder\u001b[0m\u001b[1;33m)\u001b[0m\u001b[1;33m\u001b[0m\u001b[1;33m\u001b[0m\u001b[0m\n\u001b[0m\u001b[0;32m     84\u001b[0m \u001b[1;33m\u001b[0m\u001b[0m\n\u001b[0;32m     85\u001b[0m \u001b[1;33m\u001b[0m\u001b[0m\n",
      "\u001b[1;31mValueError\u001b[0m: could not convert string to float: 'RM'"
     ]
    }
   ],
   "source": [
    "from sklearn.linear_model import LinearRegression\n",
    "\n",
    "regressor = LinearRegression()\n",
    "regressor.fit(x_train, y_train)"
   ]
  },
  {
   "cell_type": "markdown",
   "metadata": {
    "slideshow": {
     "slide_type": "slide"
    }
   },
   "source": [
    "Проблемът е, че не можем директно да вкараме текстови стойности в модела.\n",
    "\n",
    "Как най-лесно да вземем всички числови стойности? `pandas` има метод `describe()`, който показва статистика за колоните с числови стойности."
   ]
  },
  {
   "cell_type": "code",
   "execution_count": 219,
   "metadata": {
    "slideshow": {
     "slide_type": "slide"
    }
   },
   "outputs": [
    {
     "data": {
      "text/html": [
       "<div>\n",
       "<style scoped>\n",
       "    .dataframe tbody tr th:only-of-type {\n",
       "        vertical-align: middle;\n",
       "    }\n",
       "\n",
       "    .dataframe tbody tr th {\n",
       "        vertical-align: top;\n",
       "    }\n",
       "\n",
       "    .dataframe thead th {\n",
       "        text-align: right;\n",
       "    }\n",
       "</style>\n",
       "<table border=\"1\" class=\"dataframe\">\n",
       "  <thead>\n",
       "    <tr style=\"text-align: right;\">\n",
       "      <th></th>\n",
       "      <th>MSSubClass</th>\n",
       "      <th>LotFrontage</th>\n",
       "      <th>LotArea</th>\n",
       "      <th>OverallQual</th>\n",
       "      <th>OverallCond</th>\n",
       "      <th>YearBuilt</th>\n",
       "      <th>YearRemodAdd</th>\n",
       "      <th>MasVnrArea</th>\n",
       "      <th>BsmtFinSF1</th>\n",
       "      <th>BsmtFinSF2</th>\n",
       "      <th>BsmtUnfSF</th>\n",
       "      <th>TotalBsmtSF</th>\n",
       "      <th>1stFlrSF</th>\n",
       "      <th>2ndFlrSF</th>\n",
       "      <th>LowQualFinSF</th>\n",
       "      <th>GrLivArea</th>\n",
       "      <th>BsmtFullBath</th>\n",
       "      <th>BsmtHalfBath</th>\n",
       "      <th>FullBath</th>\n",
       "      <th>HalfBath</th>\n",
       "      <th>BedroomAbvGr</th>\n",
       "      <th>KitchenAbvGr</th>\n",
       "      <th>TotRmsAbvGrd</th>\n",
       "      <th>Fireplaces</th>\n",
       "      <th>GarageYrBlt</th>\n",
       "      <th>GarageCars</th>\n",
       "      <th>GarageArea</th>\n",
       "      <th>WoodDeckSF</th>\n",
       "      <th>OpenPorchSF</th>\n",
       "      <th>EnclosedPorch</th>\n",
       "      <th>3SsnPorch</th>\n",
       "      <th>ScreenPorch</th>\n",
       "      <th>PoolArea</th>\n",
       "      <th>MiscVal</th>\n",
       "      <th>MoSold</th>\n",
       "      <th>YrSold</th>\n",
       "    </tr>\n",
       "  </thead>\n",
       "  <tbody>\n",
       "    <tr>\n",
       "      <th>count</th>\n",
       "      <td>1022.000000</td>\n",
       "      <td>851.000000</td>\n",
       "      <td>1022.000000</td>\n",
       "      <td>1022.000000</td>\n",
       "      <td>1022.000000</td>\n",
       "      <td>1022.000000</td>\n",
       "      <td>1022.000000</td>\n",
       "      <td>1018.000000</td>\n",
       "      <td>1022.000000</td>\n",
       "      <td>1022.000000</td>\n",
       "      <td>1022.000000</td>\n",
       "      <td>1022.000000</td>\n",
       "      <td>1022.000000</td>\n",
       "      <td>1022.000000</td>\n",
       "      <td>1022.000000</td>\n",
       "      <td>1022.000000</td>\n",
       "      <td>1022.000000</td>\n",
       "      <td>1022.000000</td>\n",
       "      <td>1022.000000</td>\n",
       "      <td>1022.000000</td>\n",
       "      <td>1022.000000</td>\n",
       "      <td>1022.000000</td>\n",
       "      <td>1022.000000</td>\n",
       "      <td>1022.000000</td>\n",
       "      <td>973.000000</td>\n",
       "      <td>1022.000000</td>\n",
       "      <td>1022.000000</td>\n",
       "      <td>1022.000000</td>\n",
       "      <td>1022.000000</td>\n",
       "      <td>1022.000000</td>\n",
       "      <td>1022.000000</td>\n",
       "      <td>1022.000000</td>\n",
       "      <td>1022.000000</td>\n",
       "      <td>1022.000000</td>\n",
       "      <td>1022.000000</td>\n",
       "      <td>1022.000000</td>\n",
       "    </tr>\n",
       "    <tr>\n",
       "      <th>mean</th>\n",
       "      <td>58.414873</td>\n",
       "      <td>70.177438</td>\n",
       "      <td>10735.380626</td>\n",
       "      <td>6.073386</td>\n",
       "      <td>5.545988</td>\n",
       "      <td>1971.486301</td>\n",
       "      <td>1984.690802</td>\n",
       "      <td>105.416503</td>\n",
       "      <td>443.613503</td>\n",
       "      <td>45.534247</td>\n",
       "      <td>573.775930</td>\n",
       "      <td>1062.923679</td>\n",
       "      <td>1163.329746</td>\n",
       "      <td>348.274951</td>\n",
       "      <td>5.100783</td>\n",
       "      <td>1516.705479</td>\n",
       "      <td>0.404110</td>\n",
       "      <td>0.055773</td>\n",
       "      <td>1.576321</td>\n",
       "      <td>0.366928</td>\n",
       "      <td>2.853229</td>\n",
       "      <td>1.048924</td>\n",
       "      <td>6.522505</td>\n",
       "      <td>0.607632</td>\n",
       "      <td>1978.700925</td>\n",
       "      <td>1.776908</td>\n",
       "      <td>478.014677</td>\n",
       "      <td>91.718200</td>\n",
       "      <td>48.040117</td>\n",
       "      <td>21.546967</td>\n",
       "      <td>3.934442</td>\n",
       "      <td>14.780822</td>\n",
       "      <td>3.440313</td>\n",
       "      <td>39.080235</td>\n",
       "      <td>6.277886</td>\n",
       "      <td>2007.829746</td>\n",
       "    </tr>\n",
       "    <tr>\n",
       "      <th>std</th>\n",
       "      <td>44.416250</td>\n",
       "      <td>26.131482</td>\n",
       "      <td>11344.844137</td>\n",
       "      <td>1.373991</td>\n",
       "      <td>1.096401</td>\n",
       "      <td>30.262989</td>\n",
       "      <td>20.737629</td>\n",
       "      <td>181.973221</td>\n",
       "      <td>464.425961</td>\n",
       "      <td>155.139109</td>\n",
       "      <td>445.058138</td>\n",
       "      <td>447.587824</td>\n",
       "      <td>392.060942</td>\n",
       "      <td>437.429167</td>\n",
       "      <td>44.532534</td>\n",
       "      <td>527.776850</td>\n",
       "      <td>0.516242</td>\n",
       "      <td>0.233822</td>\n",
       "      <td>0.548836</td>\n",
       "      <td>0.494239</td>\n",
       "      <td>0.844400</td>\n",
       "      <td>0.229025</td>\n",
       "      <td>1.646824</td>\n",
       "      <td>0.642641</td>\n",
       "      <td>24.529523</td>\n",
       "      <td>0.733376</td>\n",
       "      <td>212.612947</td>\n",
       "      <td>125.674902</td>\n",
       "      <td>68.896801</td>\n",
       "      <td>58.997097</td>\n",
       "      <td>32.831010</td>\n",
       "      <td>55.423160</td>\n",
       "      <td>45.265717</td>\n",
       "      <td>335.892594</td>\n",
       "      <td>2.731375</td>\n",
       "      <td>1.333798</td>\n",
       "    </tr>\n",
       "    <tr>\n",
       "      <th>min</th>\n",
       "      <td>20.000000</td>\n",
       "      <td>21.000000</td>\n",
       "      <td>1300.000000</td>\n",
       "      <td>2.000000</td>\n",
       "      <td>2.000000</td>\n",
       "      <td>1872.000000</td>\n",
       "      <td>1950.000000</td>\n",
       "      <td>0.000000</td>\n",
       "      <td>0.000000</td>\n",
       "      <td>0.000000</td>\n",
       "      <td>0.000000</td>\n",
       "      <td>0.000000</td>\n",
       "      <td>372.000000</td>\n",
       "      <td>0.000000</td>\n",
       "      <td>0.000000</td>\n",
       "      <td>438.000000</td>\n",
       "      <td>0.000000</td>\n",
       "      <td>0.000000</td>\n",
       "      <td>0.000000</td>\n",
       "      <td>0.000000</td>\n",
       "      <td>0.000000</td>\n",
       "      <td>0.000000</td>\n",
       "      <td>3.000000</td>\n",
       "      <td>0.000000</td>\n",
       "      <td>1900.000000</td>\n",
       "      <td>0.000000</td>\n",
       "      <td>0.000000</td>\n",
       "      <td>0.000000</td>\n",
       "      <td>0.000000</td>\n",
       "      <td>0.000000</td>\n",
       "      <td>0.000000</td>\n",
       "      <td>0.000000</td>\n",
       "      <td>0.000000</td>\n",
       "      <td>0.000000</td>\n",
       "      <td>1.000000</td>\n",
       "      <td>2006.000000</td>\n",
       "    </tr>\n",
       "    <tr>\n",
       "      <th>25%</th>\n",
       "      <td>20.000000</td>\n",
       "      <td>58.000000</td>\n",
       "      <td>7564.250000</td>\n",
       "      <td>5.000000</td>\n",
       "      <td>5.000000</td>\n",
       "      <td>1954.000000</td>\n",
       "      <td>1966.000000</td>\n",
       "      <td>0.000000</td>\n",
       "      <td>0.000000</td>\n",
       "      <td>0.000000</td>\n",
       "      <td>229.250000</td>\n",
       "      <td>796.000000</td>\n",
       "      <td>888.000000</td>\n",
       "      <td>0.000000</td>\n",
       "      <td>0.000000</td>\n",
       "      <td>1125.250000</td>\n",
       "      <td>0.000000</td>\n",
       "      <td>0.000000</td>\n",
       "      <td>1.000000</td>\n",
       "      <td>0.000000</td>\n",
       "      <td>2.000000</td>\n",
       "      <td>1.000000</td>\n",
       "      <td>5.000000</td>\n",
       "      <td>0.000000</td>\n",
       "      <td>1962.000000</td>\n",
       "      <td>1.000000</td>\n",
       "      <td>338.000000</td>\n",
       "      <td>0.000000</td>\n",
       "      <td>0.000000</td>\n",
       "      <td>0.000000</td>\n",
       "      <td>0.000000</td>\n",
       "      <td>0.000000</td>\n",
       "      <td>0.000000</td>\n",
       "      <td>0.000000</td>\n",
       "      <td>4.000000</td>\n",
       "      <td>2007.000000</td>\n",
       "    </tr>\n",
       "    <tr>\n",
       "      <th>50%</th>\n",
       "      <td>50.000000</td>\n",
       "      <td>70.000000</td>\n",
       "      <td>9544.500000</td>\n",
       "      <td>6.000000</td>\n",
       "      <td>5.000000</td>\n",
       "      <td>1972.500000</td>\n",
       "      <td>1993.500000</td>\n",
       "      <td>0.000000</td>\n",
       "      <td>380.500000</td>\n",
       "      <td>0.000000</td>\n",
       "      <td>485.000000</td>\n",
       "      <td>995.000000</td>\n",
       "      <td>1080.000000</td>\n",
       "      <td>0.000000</td>\n",
       "      <td>0.000000</td>\n",
       "      <td>1466.000000</td>\n",
       "      <td>0.000000</td>\n",
       "      <td>0.000000</td>\n",
       "      <td>2.000000</td>\n",
       "      <td>0.000000</td>\n",
       "      <td>3.000000</td>\n",
       "      <td>1.000000</td>\n",
       "      <td>6.000000</td>\n",
       "      <td>1.000000</td>\n",
       "      <td>1980.000000</td>\n",
       "      <td>2.000000</td>\n",
       "      <td>480.000000</td>\n",
       "      <td>0.000000</td>\n",
       "      <td>26.000000</td>\n",
       "      <td>0.000000</td>\n",
       "      <td>0.000000</td>\n",
       "      <td>0.000000</td>\n",
       "      <td>0.000000</td>\n",
       "      <td>0.000000</td>\n",
       "      <td>6.000000</td>\n",
       "      <td>2008.000000</td>\n",
       "    </tr>\n",
       "    <tr>\n",
       "      <th>75%</th>\n",
       "      <td>70.000000</td>\n",
       "      <td>80.000000</td>\n",
       "      <td>11616.000000</td>\n",
       "      <td>7.000000</td>\n",
       "      <td>6.000000</td>\n",
       "      <td>2001.000000</td>\n",
       "      <td>2004.000000</td>\n",
       "      <td>168.750000</td>\n",
       "      <td>719.750000</td>\n",
       "      <td>0.000000</td>\n",
       "      <td>813.500000</td>\n",
       "      <td>1299.750000</td>\n",
       "      <td>1390.500000</td>\n",
       "      <td>729.000000</td>\n",
       "      <td>0.000000</td>\n",
       "      <td>1786.000000</td>\n",
       "      <td>1.000000</td>\n",
       "      <td>0.000000</td>\n",
       "      <td>2.000000</td>\n",
       "      <td>1.000000</td>\n",
       "      <td>3.000000</td>\n",
       "      <td>1.000000</td>\n",
       "      <td>7.000000</td>\n",
       "      <td>1.000000</td>\n",
       "      <td>2002.000000</td>\n",
       "      <td>2.000000</td>\n",
       "      <td>576.000000</td>\n",
       "      <td>168.000000</td>\n",
       "      <td>70.000000</td>\n",
       "      <td>0.000000</td>\n",
       "      <td>0.000000</td>\n",
       "      <td>0.000000</td>\n",
       "      <td>0.000000</td>\n",
       "      <td>0.000000</td>\n",
       "      <td>8.000000</td>\n",
       "      <td>2009.000000</td>\n",
       "    </tr>\n",
       "    <tr>\n",
       "      <th>max</th>\n",
       "      <td>190.000000</td>\n",
       "      <td>313.000000</td>\n",
       "      <td>215245.000000</td>\n",
       "      <td>10.000000</td>\n",
       "      <td>9.000000</td>\n",
       "      <td>2010.000000</td>\n",
       "      <td>2010.000000</td>\n",
       "      <td>1600.000000</td>\n",
       "      <td>5644.000000</td>\n",
       "      <td>1474.000000</td>\n",
       "      <td>2153.000000</td>\n",
       "      <td>6110.000000</td>\n",
       "      <td>4692.000000</td>\n",
       "      <td>2065.000000</td>\n",
       "      <td>528.000000</td>\n",
       "      <td>5642.000000</td>\n",
       "      <td>2.000000</td>\n",
       "      <td>2.000000</td>\n",
       "      <td>3.000000</td>\n",
       "      <td>2.000000</td>\n",
       "      <td>8.000000</td>\n",
       "      <td>3.000000</td>\n",
       "      <td>14.000000</td>\n",
       "      <td>3.000000</td>\n",
       "      <td>2010.000000</td>\n",
       "      <td>4.000000</td>\n",
       "      <td>1418.000000</td>\n",
       "      <td>857.000000</td>\n",
       "      <td>547.000000</td>\n",
       "      <td>318.000000</td>\n",
       "      <td>508.000000</td>\n",
       "      <td>480.000000</td>\n",
       "      <td>738.000000</td>\n",
       "      <td>8300.000000</td>\n",
       "      <td>12.000000</td>\n",
       "      <td>2010.000000</td>\n",
       "    </tr>\n",
       "  </tbody>\n",
       "</table>\n",
       "</div>"
      ],
      "text/plain": [
       "        MSSubClass  LotFrontage        LotArea  OverallQual  OverallCond  \\\n",
       "count  1022.000000   851.000000    1022.000000  1022.000000  1022.000000   \n",
       "mean     58.414873    70.177438   10735.380626     6.073386     5.545988   \n",
       "std      44.416250    26.131482   11344.844137     1.373991     1.096401   \n",
       "min      20.000000    21.000000    1300.000000     2.000000     2.000000   \n",
       "25%      20.000000    58.000000    7564.250000     5.000000     5.000000   \n",
       "50%      50.000000    70.000000    9544.500000     6.000000     5.000000   \n",
       "75%      70.000000    80.000000   11616.000000     7.000000     6.000000   \n",
       "max     190.000000   313.000000  215245.000000    10.000000     9.000000   \n",
       "\n",
       "         YearBuilt  YearRemodAdd   MasVnrArea   BsmtFinSF1   BsmtFinSF2  \\\n",
       "count  1022.000000   1022.000000  1018.000000  1022.000000  1022.000000   \n",
       "mean   1971.486301   1984.690802   105.416503   443.613503    45.534247   \n",
       "std      30.262989     20.737629   181.973221   464.425961   155.139109   \n",
       "min    1872.000000   1950.000000     0.000000     0.000000     0.000000   \n",
       "25%    1954.000000   1966.000000     0.000000     0.000000     0.000000   \n",
       "50%    1972.500000   1993.500000     0.000000   380.500000     0.000000   \n",
       "75%    2001.000000   2004.000000   168.750000   719.750000     0.000000   \n",
       "max    2010.000000   2010.000000  1600.000000  5644.000000  1474.000000   \n",
       "\n",
       "         BsmtUnfSF  TotalBsmtSF     1stFlrSF     2ndFlrSF  LowQualFinSF  \\\n",
       "count  1022.000000  1022.000000  1022.000000  1022.000000   1022.000000   \n",
       "mean    573.775930  1062.923679  1163.329746   348.274951      5.100783   \n",
       "std     445.058138   447.587824   392.060942   437.429167     44.532534   \n",
       "min       0.000000     0.000000   372.000000     0.000000      0.000000   \n",
       "25%     229.250000   796.000000   888.000000     0.000000      0.000000   \n",
       "50%     485.000000   995.000000  1080.000000     0.000000      0.000000   \n",
       "75%     813.500000  1299.750000  1390.500000   729.000000      0.000000   \n",
       "max    2153.000000  6110.000000  4692.000000  2065.000000    528.000000   \n",
       "\n",
       "         GrLivArea  BsmtFullBath  BsmtHalfBath     FullBath     HalfBath  \\\n",
       "count  1022.000000   1022.000000   1022.000000  1022.000000  1022.000000   \n",
       "mean   1516.705479      0.404110      0.055773     1.576321     0.366928   \n",
       "std     527.776850      0.516242      0.233822     0.548836     0.494239   \n",
       "min     438.000000      0.000000      0.000000     0.000000     0.000000   \n",
       "25%    1125.250000      0.000000      0.000000     1.000000     0.000000   \n",
       "50%    1466.000000      0.000000      0.000000     2.000000     0.000000   \n",
       "75%    1786.000000      1.000000      0.000000     2.000000     1.000000   \n",
       "max    5642.000000      2.000000      2.000000     3.000000     2.000000   \n",
       "\n",
       "       BedroomAbvGr  KitchenAbvGr  TotRmsAbvGrd   Fireplaces  GarageYrBlt  \\\n",
       "count   1022.000000   1022.000000   1022.000000  1022.000000   973.000000   \n",
       "mean       2.853229      1.048924      6.522505     0.607632  1978.700925   \n",
       "std        0.844400      0.229025      1.646824     0.642641    24.529523   \n",
       "min        0.000000      0.000000      3.000000     0.000000  1900.000000   \n",
       "25%        2.000000      1.000000      5.000000     0.000000  1962.000000   \n",
       "50%        3.000000      1.000000      6.000000     1.000000  1980.000000   \n",
       "75%        3.000000      1.000000      7.000000     1.000000  2002.000000   \n",
       "max        8.000000      3.000000     14.000000     3.000000  2010.000000   \n",
       "\n",
       "        GarageCars   GarageArea   WoodDeckSF  OpenPorchSF  EnclosedPorch  \\\n",
       "count  1022.000000  1022.000000  1022.000000  1022.000000    1022.000000   \n",
       "mean      1.776908   478.014677    91.718200    48.040117      21.546967   \n",
       "std       0.733376   212.612947   125.674902    68.896801      58.997097   \n",
       "min       0.000000     0.000000     0.000000     0.000000       0.000000   \n",
       "25%       1.000000   338.000000     0.000000     0.000000       0.000000   \n",
       "50%       2.000000   480.000000     0.000000    26.000000       0.000000   \n",
       "75%       2.000000   576.000000   168.000000    70.000000       0.000000   \n",
       "max       4.000000  1418.000000   857.000000   547.000000     318.000000   \n",
       "\n",
       "         3SsnPorch  ScreenPorch     PoolArea      MiscVal       MoSold  \\\n",
       "count  1022.000000  1022.000000  1022.000000  1022.000000  1022.000000   \n",
       "mean      3.934442    14.780822     3.440313    39.080235     6.277886   \n",
       "std      32.831010    55.423160    45.265717   335.892594     2.731375   \n",
       "min       0.000000     0.000000     0.000000     0.000000     1.000000   \n",
       "25%       0.000000     0.000000     0.000000     0.000000     4.000000   \n",
       "50%       0.000000     0.000000     0.000000     0.000000     6.000000   \n",
       "75%       0.000000     0.000000     0.000000     0.000000     8.000000   \n",
       "max     508.000000   480.000000   738.000000  8300.000000    12.000000   \n",
       "\n",
       "            YrSold  \n",
       "count  1022.000000  \n",
       "mean   2007.829746  \n",
       "std       1.333798  \n",
       "min    2006.000000  \n",
       "25%    2007.000000  \n",
       "50%    2008.000000  \n",
       "75%    2009.000000  \n",
       "max    2010.000000  "
      ]
     },
     "execution_count": 219,
     "metadata": {},
     "output_type": "execute_result"
    }
   ],
   "source": [
    "x_train.describe()"
   ]
  },
  {
   "cell_type": "markdown",
   "metadata": {},
   "source": [
    "Може да конфигурираме pandas да показва повече колони и редове:"
   ]
  },
  {
   "cell_type": "code",
   "execution_count": 23,
   "metadata": {
    "slideshow": {
     "slide_type": "skip"
    }
   },
   "outputs": [],
   "source": [
    "pd.options.display.max_columns = 36\n",
    "pd.options.display.max_rows = 10"
   ]
  },
  {
   "cell_type": "markdown",
   "metadata": {},
   "source": [
    "Ще вземем числовите колони по относително мързелив начин, ползвайки резултата от `describe`:"
   ]
  },
  {
   "cell_type": "code",
   "execution_count": 24,
   "metadata": {
    "slideshow": {
     "slide_type": "-"
    }
   },
   "outputs": [
    {
     "name": "stdout",
     "output_type": "stream",
     "text": [
      "Index(['MSSubClass', 'LotFrontage', 'LotArea', 'OverallQual', 'OverallCond',\n",
      "       'YearBuilt', 'YearRemodAdd', 'MasVnrArea', 'BsmtFinSF1', 'BsmtFinSF2',\n",
      "       'BsmtUnfSF', 'TotalBsmtSF', '1stFlrSF', '2ndFlrSF', 'LowQualFinSF',\n",
      "       'GrLivArea', 'BsmtFullBath', 'BsmtHalfBath', 'FullBath', 'HalfBath',\n",
      "       'BedroomAbvGr', 'KitchenAbvGr', 'TotRmsAbvGrd', 'Fireplaces',\n",
      "       'GarageYrBlt', 'GarageCars', 'GarageArea', 'WoodDeckSF', 'OpenPorchSF',\n",
      "       'EnclosedPorch', '3SsnPorch', 'ScreenPorch', 'PoolArea', 'MiscVal',\n",
      "       'MoSold', 'YrSold'],\n",
      "      dtype='object')\n"
     ]
    }
   ],
   "source": [
    "numeric_column_names = x_train.describe().columns\n",
    "print(numeric_column_names)"
   ]
  },
  {
   "cell_type": "markdown",
   "metadata": {
    "slideshow": {
     "slide_type": "slide"
    }
   },
   "source": [
    "Да опитаме отново: "
   ]
  },
  {
   "cell_type": "code",
   "execution_count": 25,
   "metadata": {
    "scrolled": true,
    "slideshow": {
     "slide_type": "subslide"
    }
   },
   "outputs": [
    {
     "ename": "ValueError",
     "evalue": "Input contains NaN, infinity or a value too large for dtype('float64').",
     "output_type": "error",
     "traceback": [
      "\u001b[1;31m---------------------------------------------------------------------------\u001b[0m",
      "\u001b[1;31mValueError\u001b[0m                                Traceback (most recent call last)",
      "\u001b[1;32m<ipython-input-25-cd843bc26d87>\u001b[0m in \u001b[0;36m<module>\u001b[1;34m\u001b[0m\n\u001b[1;32m----> 1\u001b[1;33m \u001b[0mregressor\u001b[0m\u001b[1;33m.\u001b[0m\u001b[0mfit\u001b[0m\u001b[1;33m(\u001b[0m\u001b[0mx_train\u001b[0m\u001b[1;33m[\u001b[0m\u001b[0mnumeric_column_names\u001b[0m\u001b[1;33m]\u001b[0m\u001b[1;33m,\u001b[0m \u001b[0my_train\u001b[0m\u001b[1;33m)\u001b[0m\u001b[1;33m\u001b[0m\u001b[1;33m\u001b[0m\u001b[0m\n\u001b[0m",
      "\u001b[1;32m~anaconda3\\envs\\ml_course_2023\\lib\\site-packages\\sklearn\\linear_model\\_base.py\u001b[0m in \u001b[0;36mfit\u001b[1;34m(self, X, y, sample_weight)\u001b[0m\n\u001b[0;32m    517\u001b[0m \u001b[1;33m\u001b[0m\u001b[0m\n\u001b[0;32m    518\u001b[0m         X, y = self._validate_data(X, y, accept_sparse=accept_sparse,\n\u001b[1;32m--> 519\u001b[1;33m                                    y_numeric=True, multi_output=True)\n\u001b[0m\u001b[0;32m    520\u001b[0m \u001b[1;33m\u001b[0m\u001b[0m\n\u001b[0;32m    521\u001b[0m         \u001b[1;32mif\u001b[0m \u001b[0msample_weight\u001b[0m \u001b[1;32mis\u001b[0m \u001b[1;32mnot\u001b[0m \u001b[1;32mNone\u001b[0m\u001b[1;33m:\u001b[0m\u001b[1;33m\u001b[0m\u001b[1;33m\u001b[0m\u001b[0m\n",
      "\u001b[1;32m~anaconda3\\envs\\ml_course_2023\\lib\\site-packages\\sklearn\\base.py\u001b[0m in \u001b[0;36m_validate_data\u001b[1;34m(self, X, y, reset, validate_separately, **check_params)\u001b[0m\n\u001b[0;32m    431\u001b[0m                 \u001b[0my\u001b[0m \u001b[1;33m=\u001b[0m \u001b[0mcheck_array\u001b[0m\u001b[1;33m(\u001b[0m\u001b[0my\u001b[0m\u001b[1;33m,\u001b[0m \u001b[1;33m**\u001b[0m\u001b[0mcheck_y_params\u001b[0m\u001b[1;33m)\u001b[0m\u001b[1;33m\u001b[0m\u001b[1;33m\u001b[0m\u001b[0m\n\u001b[0;32m    432\u001b[0m             \u001b[1;32melse\u001b[0m\u001b[1;33m:\u001b[0m\u001b[1;33m\u001b[0m\u001b[1;33m\u001b[0m\u001b[0m\n\u001b[1;32m--> 433\u001b[1;33m                 \u001b[0mX\u001b[0m\u001b[1;33m,\u001b[0m \u001b[0my\u001b[0m \u001b[1;33m=\u001b[0m \u001b[0mcheck_X_y\u001b[0m\u001b[1;33m(\u001b[0m\u001b[0mX\u001b[0m\u001b[1;33m,\u001b[0m \u001b[0my\u001b[0m\u001b[1;33m,\u001b[0m \u001b[1;33m**\u001b[0m\u001b[0mcheck_params\u001b[0m\u001b[1;33m)\u001b[0m\u001b[1;33m\u001b[0m\u001b[1;33m\u001b[0m\u001b[0m\n\u001b[0m\u001b[0;32m    434\u001b[0m             \u001b[0mout\u001b[0m \u001b[1;33m=\u001b[0m \u001b[0mX\u001b[0m\u001b[1;33m,\u001b[0m \u001b[0my\u001b[0m\u001b[1;33m\u001b[0m\u001b[1;33m\u001b[0m\u001b[0m\n\u001b[0;32m    435\u001b[0m \u001b[1;33m\u001b[0m\u001b[0m\n",
      "\u001b[1;32m~anaconda3\\envs\\ml_course_2023\\lib\\site-packages\\sklearn\\utils\\validation.py\u001b[0m in \u001b[0;36minner_f\u001b[1;34m(*args, **kwargs)\u001b[0m\n\u001b[0;32m     61\u001b[0m             \u001b[0mextra_args\u001b[0m \u001b[1;33m=\u001b[0m \u001b[0mlen\u001b[0m\u001b[1;33m(\u001b[0m\u001b[0margs\u001b[0m\u001b[1;33m)\u001b[0m \u001b[1;33m-\u001b[0m \u001b[0mlen\u001b[0m\u001b[1;33m(\u001b[0m\u001b[0mall_args\u001b[0m\u001b[1;33m)\u001b[0m\u001b[1;33m\u001b[0m\u001b[1;33m\u001b[0m\u001b[0m\n\u001b[0;32m     62\u001b[0m             \u001b[1;32mif\u001b[0m \u001b[0mextra_args\u001b[0m \u001b[1;33m<=\u001b[0m \u001b[1;36m0\u001b[0m\u001b[1;33m:\u001b[0m\u001b[1;33m\u001b[0m\u001b[1;33m\u001b[0m\u001b[0m\n\u001b[1;32m---> 63\u001b[1;33m                 \u001b[1;32mreturn\u001b[0m \u001b[0mf\u001b[0m\u001b[1;33m(\u001b[0m\u001b[1;33m*\u001b[0m\u001b[0margs\u001b[0m\u001b[1;33m,\u001b[0m \u001b[1;33m**\u001b[0m\u001b[0mkwargs\u001b[0m\u001b[1;33m)\u001b[0m\u001b[1;33m\u001b[0m\u001b[1;33m\u001b[0m\u001b[0m\n\u001b[0m\u001b[0;32m     64\u001b[0m \u001b[1;33m\u001b[0m\u001b[0m\n\u001b[0;32m     65\u001b[0m             \u001b[1;31m# extra_args > 0\u001b[0m\u001b[1;33m\u001b[0m\u001b[1;33m\u001b[0m\u001b[1;33m\u001b[0m\u001b[0m\n",
      "\u001b[1;32m~anaconda3\\envs\\ml_course_2023\\lib\\site-packages\\sklearn\\utils\\validation.py\u001b[0m in \u001b[0;36mcheck_X_y\u001b[1;34m(X, y, accept_sparse, accept_large_sparse, dtype, order, copy, force_all_finite, ensure_2d, allow_nd, multi_output, ensure_min_samples, ensure_min_features, y_numeric, estimator)\u001b[0m\n\u001b[0;32m    876\u001b[0m                     \u001b[0mensure_min_samples\u001b[0m\u001b[1;33m=\u001b[0m\u001b[0mensure_min_samples\u001b[0m\u001b[1;33m,\u001b[0m\u001b[1;33m\u001b[0m\u001b[1;33m\u001b[0m\u001b[0m\n\u001b[0;32m    877\u001b[0m                     \u001b[0mensure_min_features\u001b[0m\u001b[1;33m=\u001b[0m\u001b[0mensure_min_features\u001b[0m\u001b[1;33m,\u001b[0m\u001b[1;33m\u001b[0m\u001b[1;33m\u001b[0m\u001b[0m\n\u001b[1;32m--> 878\u001b[1;33m                     estimator=estimator)\n\u001b[0m\u001b[0;32m    879\u001b[0m     \u001b[1;32mif\u001b[0m \u001b[0mmulti_output\u001b[0m\u001b[1;33m:\u001b[0m\u001b[1;33m\u001b[0m\u001b[1;33m\u001b[0m\u001b[0m\n\u001b[0;32m    880\u001b[0m         y = check_array(y, accept_sparse='csr', force_all_finite=True,\n",
      "\u001b[1;32m~anaconda3\\envs\\ml_course_2023\\lib\\site-packages\\sklearn\\utils\\validation.py\u001b[0m in \u001b[0;36minner_f\u001b[1;34m(*args, **kwargs)\u001b[0m\n\u001b[0;32m     61\u001b[0m             \u001b[0mextra_args\u001b[0m \u001b[1;33m=\u001b[0m \u001b[0mlen\u001b[0m\u001b[1;33m(\u001b[0m\u001b[0margs\u001b[0m\u001b[1;33m)\u001b[0m \u001b[1;33m-\u001b[0m \u001b[0mlen\u001b[0m\u001b[1;33m(\u001b[0m\u001b[0mall_args\u001b[0m\u001b[1;33m)\u001b[0m\u001b[1;33m\u001b[0m\u001b[1;33m\u001b[0m\u001b[0m\n\u001b[0;32m     62\u001b[0m             \u001b[1;32mif\u001b[0m \u001b[0mextra_args\u001b[0m \u001b[1;33m<=\u001b[0m \u001b[1;36m0\u001b[0m\u001b[1;33m:\u001b[0m\u001b[1;33m\u001b[0m\u001b[1;33m\u001b[0m\u001b[0m\n\u001b[1;32m---> 63\u001b[1;33m                 \u001b[1;32mreturn\u001b[0m \u001b[0mf\u001b[0m\u001b[1;33m(\u001b[0m\u001b[1;33m*\u001b[0m\u001b[0margs\u001b[0m\u001b[1;33m,\u001b[0m \u001b[1;33m**\u001b[0m\u001b[0mkwargs\u001b[0m\u001b[1;33m)\u001b[0m\u001b[1;33m\u001b[0m\u001b[1;33m\u001b[0m\u001b[0m\n\u001b[0m\u001b[0;32m     64\u001b[0m \u001b[1;33m\u001b[0m\u001b[0m\n\u001b[0;32m     65\u001b[0m             \u001b[1;31m# extra_args > 0\u001b[0m\u001b[1;33m\u001b[0m\u001b[1;33m\u001b[0m\u001b[1;33m\u001b[0m\u001b[0m\n",
      "\u001b[1;32m~anaconda3\\envs\\ml_course_2023\\lib\\site-packages\\sklearn\\utils\\validation.py\u001b[0m in \u001b[0;36mcheck_array\u001b[1;34m(array, accept_sparse, accept_large_sparse, dtype, order, copy, force_all_finite, ensure_2d, allow_nd, ensure_min_samples, ensure_min_features, estimator)\u001b[0m\n\u001b[0;32m    719\u001b[0m         \u001b[1;32mif\u001b[0m \u001b[0mforce_all_finite\u001b[0m\u001b[1;33m:\u001b[0m\u001b[1;33m\u001b[0m\u001b[1;33m\u001b[0m\u001b[0m\n\u001b[0;32m    720\u001b[0m             _assert_all_finite(array,\n\u001b[1;32m--> 721\u001b[1;33m                                allow_nan=force_all_finite == 'allow-nan')\n\u001b[0m\u001b[0;32m    722\u001b[0m \u001b[1;33m\u001b[0m\u001b[0m\n\u001b[0;32m    723\u001b[0m     \u001b[1;32mif\u001b[0m \u001b[0mensure_min_samples\u001b[0m \u001b[1;33m>\u001b[0m \u001b[1;36m0\u001b[0m\u001b[1;33m:\u001b[0m\u001b[1;33m\u001b[0m\u001b[1;33m\u001b[0m\u001b[0m\n",
      "\u001b[1;32m~anaconda3\\envs\\ml_course_2023\\lib\\site-packages\\sklearn\\utils\\validation.py\u001b[0m in \u001b[0;36m_assert_all_finite\u001b[1;34m(X, allow_nan, msg_dtype)\u001b[0m\n\u001b[0;32m    104\u001b[0m                     \u001b[0mmsg_err\u001b[0m\u001b[1;33m.\u001b[0m\u001b[0mformat\u001b[0m\u001b[1;33m\u001b[0m\u001b[1;33m\u001b[0m\u001b[0m\n\u001b[0;32m    105\u001b[0m                     (type_err,\n\u001b[1;32m--> 106\u001b[1;33m                      msg_dtype if msg_dtype is not None else X.dtype)\n\u001b[0m\u001b[0;32m    107\u001b[0m             )\n\u001b[0;32m    108\u001b[0m     \u001b[1;31m# for object dtype data, we only check for NaNs (GH-13254)\u001b[0m\u001b[1;33m\u001b[0m\u001b[1;33m\u001b[0m\u001b[1;33m\u001b[0m\u001b[0m\n",
      "\u001b[1;31mValueError\u001b[0m: Input contains NaN, infinity or a value too large for dtype('float64')."
     ]
    }
   ],
   "source": [
    "regressor.fit(x_train[numeric_column_names], y_train)"
   ]
  },
  {
   "cell_type": "markdown",
   "metadata": {
    "slideshow": {
     "slide_type": "subslide"
    }
   },
   "source": [
    "Е, нали ML беше лесен, хвърлям данните на модела или невронната мрежа и готово.\n",
    "\n",
    "Ще подълбаем още, за да открием модела:"
   ]
  },
  {
   "cell_type": "code",
   "execution_count": 26,
   "metadata": {
    "scrolled": true,
    "slideshow": {
     "slide_type": "subslide"
    }
   },
   "outputs": [
    {
     "data": {
      "text/plain": [
       "MSSubClass        0\n",
       "HalfBath          0\n",
       "BedroomAbvGr      0\n",
       "KitchenAbvGr      0\n",
       "TotRmsAbvGrd      0\n",
       "               ... \n",
       "BsmtFinSF2        0\n",
       "YrSold            0\n",
       "MasVnrArea        4\n",
       "GarageYrBlt      49\n",
       "LotFrontage     171\n",
       "Length: 36, dtype: int64"
      ]
     },
     "execution_count": 26,
     "metadata": {},
     "output_type": "execute_result"
    }
   ],
   "source": [
    "x_train[numeric_column_names].isnull().sum().sort_values()"
   ]
  },
  {
   "cell_type": "code",
   "execution_count": 27,
   "metadata": {
    "slideshow": {
     "slide_type": "subslide"
    }
   },
   "outputs": [
    {
     "data": {
      "image/png": "[encoded data removed]",
      "text/plain": [
       "<Figure size 432x288 with 4 Axes>"
      ]
     },
     "metadata": {
      "needs_background": "light"
     },
     "output_type": "display_data"
    }
   ],
   "source": [
    "x_train[['LotFrontage','GarageYrBlt', 'MasVnrArea']].hist();"
   ]
  },
  {
   "cell_type": "markdown",
   "metadata": {},
   "source": [
    "В горния пример слагаме `;` за да не се отпечата върнатата стойност на `hist()` в notebook-а. Правим го за да е по-прегледно. В Python няма нужда от `;` иначе."
   ]
  },
  {
   "cell_type": "markdown",
   "metadata": {
    "slideshow": {
     "slide_type": "slide"
    }
   },
   "source": [
    "### Обработка на празни стойности (NaN, null values)\n",
    "\n",
    "По някакъв начин трябва да се отървем от празните стойности. Ето няколко варианта:\n",
    "\n",
    "- Да премахнем целите редове.\n",
    "- Да ги заменим със средната стойност или медианата на съответната колона. \n",
    "- Да направим ML модел, с който да предвидим колоната с липсващи елементи, на база на останалите колони.\n",
    "\n",
    "В нашия случай ще ги заменим с 0, защото е подходящо с тези данни. И е най-бързо."
   ]
  },
  {
   "cell_type": "code",
   "execution_count": 28,
   "metadata": {
    "slideshow": {
     "slide_type": "subslide"
    }
   },
   "outputs": [
    {
     "name": "stderr",
     "output_type": "stream",
     "text": [
      "C:\\Users\\HP\\anaconda3\\envs\\ml_course_2023\\lib\\site-packages\\pandas\\core\\frame.py:3069: SettingWithCopyWarning: \n",
      "A value is trying to be set on a copy of a slice from a DataFrame.\n",
      "Try using .loc[row_indexer,col_indexer] = value instead\n",
      "\n",
      "See the caveats in the documentation: https://pandas.pydata.org/pandas-docs/stable/user_guide/indexing.html#returning-a-view-versus-a-copy\n",
      "  self[k1] = value[k2]\n"
     ]
    }
   ],
   "source": [
    "x_train[numeric_column_names] = x_train[numeric_column_names].fillna(0)"
   ]
  },
  {
   "cell_type": "markdown",
   "metadata": {},
   "source": [
    "Не обръщайте внимание на warning-а. В този случай е ОК и когато говорим за pandas по-натам ще стане по-ясно защо се случва. Може да намерите хубав tutorial по въпроса тук:\n",
    "\n",
    "https://www.dataquest.io/blog/settingwithcopywarning/"
   ]
  },
  {
   "cell_type": "code",
   "execution_count": 29,
   "metadata": {
    "slideshow": {
     "slide_type": "subslide"
    }
   },
   "outputs": [
    {
     "data": {
      "text/plain": [
       "0    36\n",
       "dtype: int64"
      ]
     },
     "execution_count": 29,
     "metadata": {},
     "output_type": "execute_result"
    }
   ],
   "source": [
    "x_train[numeric_column_names].isnull().sum(axis=0).value_counts()"
   ]
  },
  {
   "cell_type": "markdown",
   "metadata": {
    "slideshow": {
     "slide_type": "slide"
    }
   },
   "source": [
    "### Да потренираме отново...\n",
    "\n",
    "\n",
    "\n",
    "**third time's a charm**\n",
    "\n",
    "Proverb definition:<br>\n",
    "> One is sure to succeed at a task or event on the third try.\n",
    ">\n",
    "> May jokingly be extended to fourth, fifth or higher numbers if success is not achieved on the third try.\n",
    "\n"
   ]
  },
  {
   "cell_type": "code",
   "execution_count": 30,
   "metadata": {
    "slideshow": {
     "slide_type": "slide"
    }
   },
   "outputs": [
    {
     "data": {
      "text/plain": [
       "LinearRegression()"
      ]
     },
     "execution_count": 30,
     "metadata": {},
     "output_type": "execute_result"
    }
   ],
   "source": [
    "regressor.fit(x_train[numeric_column_names], y_train)"
   ]
  },
  {
   "cell_type": "markdown",
   "metadata": {
    "slideshow": {
     "slide_type": "slide"
    }
   },
   "source": [
    "Успех!\n",
    "\n",
    "\n",
    "Следва да видим какво е научил:"
   ]
  },
  {
   "cell_type": "code",
   "execution_count": 31,
   "metadata": {
    "slideshow": {
     "slide_type": "subslide"
    }
   },
   "outputs": [
    {
     "data": {
      "text/plain": [
       "0.7981263665303393"
      ]
     },
     "execution_count": 31,
     "metadata": {},
     "output_type": "execute_result"
    }
   ],
   "source": [
    "regressor.score(x_train[numeric_column_names], y_train)"
   ]
  },
  {
   "cell_type": "markdown",
   "metadata": {
    "slideshow": {
     "slide_type": "slide"
    }
   },
   "source": [
    "Някакво число. При максимум 1 - не е зле.\n",
    "\n",
    "Все пак, какво предсказва? Нека да видим как са разпределени предвижданията:"
   ]
  },
  {
   "cell_type": "code",
   "execution_count": 32,
   "metadata": {
    "slideshow": {
     "slide_type": "subslide"
    }
   },
   "outputs": [
    {
     "name": "stdout",
     "output_type": "stream",
     "text": [
      "[ 94546.59021575 319548.43264951 140270.63909418 224453.01768405\n",
      " 236313.23539591 164261.63064394  86677.32797052 254333.97137667]\n"
     ]
    },
    {
     "data": {
      "image/png": "[encoded data removed]",
      "text/plain": [
       "<Figure size 432x288 with 1 Axes>"
      ]
     },
     "metadata": {
      "needs_background": "light"
     },
     "output_type": "display_data"
    }
   ],
   "source": [
    "predictions = regressor.predict(x_train[numeric_column_names])\n",
    "\n",
    "print(predictions[:8])\n",
    "\n",
    "sns.distplot(predictions);"
   ]
  },
  {
   "cell_type": "markdown",
   "metadata": {},
   "source": [
    "Може да видим и как е разпределена грешката спрямо стойностите, които трябва да предвидим:"
   ]
  },
  {
   "cell_type": "code",
   "execution_count": 33,
   "metadata": {
    "scrolled": true,
    "slideshow": {
     "slide_type": "subslide"
    }
   },
   "outputs": [
    {
     "name": "stdout",
     "output_type": "stream",
     "text": [
      "Id\n",
      "128      7547.0\n",
      "878    -30452.0\n",
      "880      3771.0\n",
      "163      4453.0\n",
      "1181   -13687.0\n",
      "853       262.0\n",
      "77     -49073.0\n",
      "603     34334.0\n",
      "Name: SalePrice, dtype: float64\n"
     ]
    }
   ],
   "source": [
    "differences = (predictions - y_train).round(0)\n",
    "print(differences[:8])"
   ]
  },
  {
   "cell_type": "code",
   "execution_count": 34,
   "metadata": {
    "slideshow": {
     "slide_type": "subslide"
    }
   },
   "outputs": [
    {
     "data": {
      "image/png": "[encoded data removed]",
      "text/plain": [
       "<Figure size 432x288 with 1 Axes>"
      ]
     },
     "metadata": {
      "needs_background": "light"
     },
     "output_type": "display_data"
    }
   ],
   "source": [
    "sns.distplot(differences);"
   ]
  },
  {
   "cell_type": "markdown",
   "metadata": {},
   "source": [
    "Може да видим отклоненията между това, което сме предвидили и резултата, който е трябвало да познаем:"
   ]
  },
  {
   "cell_type": "code",
   "execution_count": 35,
   "metadata": {
    "scrolled": true,
    "slideshow": {
     "slide_type": "subslide"
    }
   },
   "outputs": [
    {
     "data": {
      "text/plain": [
       "Id\n",
       "128    -0.086742\n",
       "878     0.087004\n",
       "880    -0.027624\n",
       "163    -0.020241\n",
       "1181    0.054747\n",
       "          ...   \n",
       "1114   -0.025753\n",
       "796    -0.112036\n",
       "832    -0.006137\n",
       "79      0.216790\n",
       "57     -0.325502\n",
       "Name: SalePrice, Length: 1022, dtype: float64"
      ]
     },
     "execution_count": 35,
     "metadata": {},
     "output_type": "execute_result"
    }
   ],
   "source": [
    "1 - predictions / y_train"
   ]
  },
  {
   "cell_type": "markdown",
   "metadata": {},
   "source": [
    "`predictions / y_train` ще бъде 1 ако сме познали съвсем точно. `1 - predictions / y_train` ще ни върне отклонението в процент.\n",
    "\n",
    "Може да начертаем същото нещо на диаграма:"
   ]
  },
  {
   "cell_type": "code",
   "execution_count": 36,
   "metadata": {
    "slideshow": {
     "slide_type": "subslide"
    }
   },
   "outputs": [
    {
     "data": {
      "image/png": "[encoded data removed]",
      "text/plain": [
       "<Figure size 864x864 with 1 Axes>"
      ]
     },
     "metadata": {
      "needs_background": "light"
     },
     "output_type": "display_data"
    }
   ],
   "source": [
    "plt.figure(figsize=(12,12))\n",
    "sns.regplot(y_train, predictions)\n",
    "plt.grid(True)\n",
    "plt.show()"
   ]
  },
  {
   "cell_type": "markdown",
   "metadata": {},
   "source": [
    "По x имаме оригиналната цена, а по y – нашето предвиждане. Ако моделът ни познаваше съвсем точно, всички точки щяха да лежат на правата. Тук може да видим разликите грешката, която правим."
   ]
  },
  {
   "cell_type": "markdown",
   "metadata": {
    "slideshow": {
     "slide_type": "slide"
    }
   },
   "source": [
    "Нека да пробваме с тест сета:"
   ]
  },
  {
   "cell_type": "code",
   "execution_count": 37,
   "metadata": {
    "scrolled": true,
    "slideshow": {
     "slide_type": "subslide"
    }
   },
   "outputs": [
    {
     "data": {
      "text/plain": [
       "LotFrontage    88\n",
       "GarageYrBlt    32\n",
       "MasVnrArea      4\n",
       "YrSold          0\n",
       "dtype: int64"
      ]
     },
     "execution_count": 37,
     "metadata": {},
     "output_type": "execute_result"
    }
   ],
   "source": [
    "x_test[numeric_column_names].isnull().sum().sort_values(ascending=False)[:4]"
   ]
  },
  {
   "cell_type": "code",
   "execution_count": 38,
   "metadata": {
    "slideshow": {
     "slide_type": "subslide"
    }
   },
   "outputs": [
    {
     "name": "stderr",
     "output_type": "stream",
     "text": [
      "C:\\Users\\HP\\anaconda3\\envs\\ml_course_2023\\lib\\site-packages\\pandas\\core\\frame.py:3069: SettingWithCopyWarning: \n",
      "A value is trying to be set on a copy of a slice from a DataFrame.\n",
      "Try using .loc[row_indexer,col_indexer] = value instead\n",
      "\n",
      "See the caveats in the documentation: https://pandas.pydata.org/pandas-docs/stable/user_guide/indexing.html#returning-a-view-versus-a-copy\n",
      "  self[k1] = value[k2]\n"
     ]
    }
   ],
   "source": [
    "x_test[numeric_column_names] = x_test[numeric_column_names].fillna(0)"
   ]
  },
  {
   "cell_type": "code",
   "execution_count": 39,
   "metadata": {
    "slideshow": {
     "slide_type": "subslide"
    }
   },
   "outputs": [
    {
     "data": {
      "image/png": "[encoded data removed]",
      "text/plain": [
       "<Figure size 864x864 with 1 Axes>"
      ]
     },
     "metadata": {
      "needs_background": "light"
     },
     "output_type": "display_data"
    }
   ],
   "source": [
    "predictions_test = regressor.predict(x_test[numeric_column_names])\n",
    "plt.figure(figsize=(12,12))\n",
    "sns.regplot(y_test, predictions_test)\n",
    "plt.grid(True)\n",
    "plt.show()"
   ]
  },
  {
   "cell_type": "code",
   "execution_count": 40,
   "metadata": {
    "slideshow": {
     "slide_type": "subslide"
    }
   },
   "outputs": [
    {
     "name": "stdout",
     "output_type": "stream",
     "text": [
      "score for test: 0.841202121302285\n"
     ]
    }
   ],
   "source": [
    "print(\"score for test:\", regressor.score(x_test[numeric_column_names], y_test))"
   ]
  },
  {
   "cell_type": "code",
   "execution_count": 41,
   "metadata": {
    "scrolled": true,
    "slideshow": {
     "slide_type": "subslide"
    }
   },
   "outputs": [
    {
     "data": {
      "text/plain": [
       "Id\n",
       "479      5382.377918\n",
       "1129    -2325.205851\n",
       "385    -14341.154261\n",
       "1123    37918.467438\n",
       "1217   -40212.464529\n",
       "            ...     \n",
       "648    -14056.862212\n",
       "184    -23378.329871\n",
       "800     10477.722516\n",
       "365     -9039.899706\n",
       "1175    37648.816435\n",
       "Name: SalePrice, Length: 438, dtype: float64"
      ]
     },
     "execution_count": 41,
     "metadata": {},
     "output_type": "execute_result"
    }
   ],
   "source": [
    "y_test - predictions_test"
   ]
  },
  {
   "cell_type": "code",
   "execution_count": 42,
   "metadata": {
    "scrolled": true,
    "slideshow": {
     "slide_type": "subslide"
    }
   },
   "outputs": [
    {
     "data": {
      "text/plain": [
       "Id\n",
       "479     0.018122\n",
       "1129   -0.010815\n",
       "385    -0.059755\n",
       "1123    0.338558\n",
       "1217   -0.359040\n",
       "1426   -0.134347\n",
       "1419    0.051172\n",
       "19     -0.007233\n",
       "Name: SalePrice, dtype: float64"
      ]
     },
     "execution_count": 42,
     "metadata": {},
     "output_type": "execute_result"
    }
   ],
   "source": [
    "deviation = 1 - predictions_test / y_test\n",
    "deviation[:8]"
   ]
  },
  {
   "cell_type": "code",
   "execution_count": 43,
   "metadata": {
    "slideshow": {
     "slide_type": "subslide"
    }
   },
   "outputs": [
    {
     "data": {
      "text/plain": [
       "<AxesSubplot:xlabel='SalePrice', ylabel='Density'>"
      ]
     },
     "execution_count": 43,
     "metadata": {},
     "output_type": "execute_result"
    },
    {
     "data": {
      "image/png": "[encoded data removed]",
      "text/plain": [
       "<Figure size 432x288 with 1 Axes>"
      ]
     },
     "metadata": {
      "needs_background": "light"
     },
     "output_type": "display_data"
    }
   ],
   "source": [
    "sns.distplot(deviation)"
   ]
  },
  {
   "cell_type": "markdown",
   "metadata": {
    "slideshow": {
     "slide_type": "slide"
    }
   },
   "source": [
    "Какво научи модела? Теглата (weights) на всеки един от атрибутите. Нека го визуализираме:"
   ]
  },
  {
   "cell_type": "code",
   "execution_count": 44,
   "metadata": {
    "slideshow": {
     "slide_type": "subslide"
    }
   },
   "outputs": [
    {
     "data": {
      "image/png": "[encoded data removed]",
      "text/plain": [
       "<Figure size 864x576 with 1 Axes>"
      ]
     },
     "metadata": {
      "needs_background": "light"
     },
     "output_type": "display_data"
    }
   ],
   "source": [
    "plt.figure(figsize=(12,8))\n",
    "barplot = sns.barplot(x=numeric_column_names, y=regressor.coef_, orient='vertical')\n",
    "plt.setp(barplot.get_xticklabels(), rotation=90); plt.grid(True);"
   ]
  },
  {
   "cell_type": "markdown",
   "metadata": {
    "slideshow": {
     "slide_type": "subslide"
    }
   },
   "source": [
    "Тук може да видим някои интересни неща – олоните `OverallQual` и `BsmtFullBath` имат много голяма стойност. Също, наличието на гараж (`GarageCars`) добавя около 16 000 към цената на апартамента.\n",
    "\n",
    "В крайна сметка, линейната регресия е просто линейно уравнение с определени коефициенти (тези горе). Може да ги видим в самия регресор:"
   ]
  },
  {
   "cell_type": "code",
   "execution_count": 45,
   "metadata": {
    "slideshow": {
     "slide_type": "subslide"
    }
   },
   "outputs": [
    {
     "name": "stdout",
     "output_type": "stream",
     "text": [
      "55884.027121245585\n",
      "[-1.74092382e+02 -1.59334956e+01  3.90604746e-01  1.82477174e+04\n",
      "  5.21657989e+03  3.75326569e+02  1.36580705e+02  2.17291147e+01\n",
      "  6.20814805e+00  7.67033291e-03 -6.04172067e-01  5.61164632e+00\n",
      "  1.99827845e+01  2.17552995e+01 -2.43299134e+01  1.74081705e+01\n",
      "  1.26936626e+04  1.50351700e+03  3.33729642e+03 -2.70834376e+03\n",
      " -7.47762034e+03 -1.36774474e+04  4.95468307e+03  4.80689715e+03\n",
      " -1.46397401e+01  1.62721482e+04  6.62093154e+00  3.00251352e+01\n",
      "  3.95602564e+00  3.05792346e+01  4.55257238e+01  7.31855496e+01\n",
      " -6.40235362e+00 -2.58236600e+00  2.66355805e+01 -5.50741893e+02]\n"
     ]
    }
   ],
   "source": [
    "print(regressor.intercept_)\n",
    "print(regressor.coef_)"
   ]
  },
  {
   "cell_type": "markdown",
   "metadata": {
    "slideshow": {
     "slide_type": "subslide"
    }
   },
   "source": [
    "Моделът в момента:\n",
    "\n",
    "цена = 56000 + 17000 \\* _OverallQual_ + 16000 \\* _GarageCars_ + 12000 \\* _BsmtFullBath_ - 14000 \\* _KitchenAbvGr_\n",
    "\n",
    "$y = a_0 + a_1 * x_1 + a_2 * x_2 ... a_n * x_n$"
   ]
  },
  {
   "cell_type": "code",
   "execution_count": 46,
   "metadata": {
    "slideshow": {
     "slide_type": "subslide"
    }
   },
   "outputs": [
    {
     "name": "stdout",
     "output_type": "stream",
     "text": [
      "55884.027121245585  + \n"
     ]
    },
    {
     "data": {
      "text/plain": [
       "[(-174.09238201320574, '*', 'MSSubClass'),\n",
       " (-15.933495614914387, '*', 'LotFrontage'),\n",
       " (0.3906047456581882, '*', 'LotArea'),\n",
       " (18247.71740753041, '*', 'OverallQual'),\n",
       " (5216.579894172018, '*', 'OverallCond'),\n",
       " (375.3265694257525, '*', 'YearBuilt'),\n",
       " (136.58070545802556, '*', 'YearRemodAdd'),\n",
       " (21.72911466906334, '*', 'MasVnrArea'),\n",
       " (6.208148052077907, '*', 'BsmtFinSF1'),\n",
       " (0.0076703329135211955, '*', 'BsmtFinSF2'),\n",
       " (-0.6041720669081425, '*', 'BsmtUnfSF'),\n",
       " (5.611646316768264, '*', 'TotalBsmtSF'),\n",
       " (19.982784462854717, '*', '1stFlrSF'),\n",
       " (21.75529948130274, '*', '2ndFlrSF'),\n",
       " (-24.3299134054917, '*', 'LowQualFinSF'),\n",
       " (17.408170534355722, '*', 'GrLivArea'),\n",
       " (12693.66263196833, '*', 'BsmtFullBath'),\n",
       " (1503.5170040006765, '*', 'BsmtHalfBath'),\n",
       " (3337.2964235028485, '*', 'FullBath'),\n",
       " (-2708.3437562697227, '*', 'HalfBath'),\n",
       " (-7477.620342121199, '*', 'BedroomAbvGr'),\n",
       " (-13677.447367546763, '*', 'KitchenAbvGr'),\n",
       " (4954.683072214145, '*', 'TotRmsAbvGrd'),\n",
       " (4806.897153734323, '*', 'Fireplaces'),\n",
       " (-14.639740147465648, '*', 'GarageYrBlt'),\n",
       " (16272.148156862517, '*', 'GarageCars'),\n",
       " (6.620931542723183, '*', 'GarageArea'),\n",
       " (30.02513524735795, '*', 'WoodDeckSF'),\n",
       " (3.9560256364677304, '*', 'OpenPorchSF'),\n",
       " (30.579234554674105, '*', 'EnclosedPorch'),\n",
       " (45.52572383883273, '*', '3SsnPorch'),\n",
       " (73.18554957409442, '*', 'ScreenPorch'),\n",
       " (-6.402353619396118, '*', 'PoolArea'),\n",
       " (-2.582366002046311, '*', 'MiscVal'),\n",
       " (26.635580465529344, '*', 'MoSold'),\n",
       " (-550.7418934062239, '*', 'YrSold')]"
      ]
     },
     "execution_count": 46,
     "metadata": {},
     "output_type": "execute_result"
    }
   ],
   "source": [
    "print(regressor.intercept_, \" + \",)\n",
    "list(zip(regressor.coef_, \"*\"*len(regressor.coef_), numeric_column_names, ))"
   ]
  },
  {
   "cell_type": "markdown",
   "metadata": {
    "slideshow": {
     "slide_type": "slide"
    }
   },
   "source": [
    "## До тук:\n",
    "\n",
    "* Разделихме данните на тренировъчно и тестово множество.\n",
    "* Взехме само числовите колони.\n",
    "* Изчистихме (земенихме с 0) празните стойности.\n",
    "* Натренирахме регресор.\n",
    "* Изчислихме му резултата - за обучение: 0.798 за тест: 0.8412021\n",
    "* Определихме, че моделът не пренагажда - генерализира добре. Следователно може да бъде използван по-сложен модел.\n",
    "* Използваните от модела характеристики не изглеждат интуитивно оптимални.\n",
    "* Разгледахме разликите в предвижданията на цените за тренировъчното и тестовото множество.\n",
    "* Разгледахме теглата на характеристиките."
   ]
  },
  {
   "cell_type": "markdown",
   "metadata": {
    "slideshow": {
     "slide_type": "slide"
    }
   },
   "source": [
    "## Следва\n",
    "\n",
    "* Усложняване на модела – вадене на още характеристики от данните."
   ]
  },
  {
   "cell_type": "code",
   "execution_count": 47,
   "metadata": {
    "slideshow": {
     "slide_type": "slide"
    }
   },
   "outputs": [
    {
     "data": {
      "text/plain": [
       "MSSubClass         int64\n",
       "MSZoning          object\n",
       "LotFrontage      float64\n",
       "LotArea            int64\n",
       "Street            object\n",
       "                  ...   \n",
       "MoSold             int64\n",
       "YrSold             int64\n",
       "SaleType          object\n",
       "SaleCondition     object\n",
       "SalePrice          int64\n",
       "Length: 80, dtype: object"
      ]
     },
     "execution_count": 47,
     "metadata": {},
     "output_type": "execute_result"
    }
   ],
   "source": [
    "pd.options.display.max_rows = 10\n",
    "train.dtypes"
   ]
  },
  {
   "cell_type": "markdown",
   "metadata": {},
   "source": [
    "### Скалиране на данните "
   ]
  },
  {
   "cell_type": "code",
   "execution_count": 48,
   "metadata": {},
   "outputs": [],
   "source": [
    "from sklearn.preprocessing import MinMaxScaler\n",
    "scaler = MinMaxScaler()\n",
    "scaler.fit(x_train[numeric_column_names])\n",
    "\n",
    "x_train_scaled = pd.DataFrame(scaler.transform(x_train[numeric_column_names]), columns = numeric_column_names)\n",
    "x_test_scaled = pd.DataFrame(scaler.transform(x_test[numeric_column_names]), columns = numeric_column_names)"
   ]
  },
  {
   "cell_type": "code",
   "execution_count": 49,
   "metadata": {},
   "outputs": [
    {
     "data": {
      "text/html": [
       "<div>\n",
       "<style scoped>\n",
       "    .dataframe tbody tr th:only-of-type {\n",
       "        vertical-align: middle;\n",
       "    }\n",
       "\n",
       "    .dataframe tbody tr th {\n",
       "        vertical-align: top;\n",
       "    }\n",
       "\n",
       "    .dataframe thead th {\n",
       "        text-align: right;\n",
       "    }\n",
       "</style>\n",
       "<table border=\"1\" class=\"dataframe\">\n",
       "  <thead>\n",
       "    <tr style=\"text-align: right;\">\n",
       "      <th></th>\n",
       "      <th>MSSubClass</th>\n",
       "      <th>LotFrontage</th>\n",
       "      <th>LotArea</th>\n",
       "      <th>OverallQual</th>\n",
       "      <th>OverallCond</th>\n",
       "      <th>YearBuilt</th>\n",
       "      <th>YearRemodAdd</th>\n",
       "      <th>MasVnrArea</th>\n",
       "      <th>BsmtFinSF1</th>\n",
       "      <th>BsmtFinSF2</th>\n",
       "      <th>BsmtUnfSF</th>\n",
       "      <th>TotalBsmtSF</th>\n",
       "      <th>1stFlrSF</th>\n",
       "      <th>2ndFlrSF</th>\n",
       "      <th>LowQualFinSF</th>\n",
       "      <th>GrLivArea</th>\n",
       "      <th>BsmtFullBath</th>\n",
       "      <th>BsmtHalfBath</th>\n",
       "      <th>FullBath</th>\n",
       "      <th>HalfBath</th>\n",
       "      <th>BedroomAbvGr</th>\n",
       "      <th>KitchenAbvGr</th>\n",
       "      <th>TotRmsAbvGrd</th>\n",
       "      <th>Fireplaces</th>\n",
       "      <th>GarageYrBlt</th>\n",
       "      <th>GarageCars</th>\n",
       "      <th>GarageArea</th>\n",
       "      <th>WoodDeckSF</th>\n",
       "      <th>OpenPorchSF</th>\n",
       "      <th>EnclosedPorch</th>\n",
       "      <th>3SsnPorch</th>\n",
       "      <th>ScreenPorch</th>\n",
       "      <th>PoolArea</th>\n",
       "      <th>MiscVal</th>\n",
       "      <th>MoSold</th>\n",
       "      <th>YrSold</th>\n",
       "    </tr>\n",
       "  </thead>\n",
       "  <tbody>\n",
       "    <tr>\n",
       "      <th>count</th>\n",
       "      <td>1022.000000</td>\n",
       "      <td>1022.000000</td>\n",
       "      <td>1022.000000</td>\n",
       "      <td>1022.000000</td>\n",
       "      <td>1022.000000</td>\n",
       "      <td>1022.000000</td>\n",
       "      <td>1022.000000</td>\n",
       "      <td>1022.000000</td>\n",
       "      <td>1022.000000</td>\n",
       "      <td>1022.000000</td>\n",
       "      <td>1022.000000</td>\n",
       "      <td>1022.000000</td>\n",
       "      <td>1022.000000</td>\n",
       "      <td>1022.000000</td>\n",
       "      <td>1022.000000</td>\n",
       "      <td>1022.000000</td>\n",
       "      <td>1022.000000</td>\n",
       "      <td>1022.000000</td>\n",
       "      <td>1022.000000</td>\n",
       "      <td>1022.000000</td>\n",
       "      <td>1022.000000</td>\n",
       "      <td>1022.000000</td>\n",
       "      <td>1022.000000</td>\n",
       "      <td>1022.000000</td>\n",
       "      <td>1022.000000</td>\n",
       "      <td>1022.000000</td>\n",
       "      <td>1022.000000</td>\n",
       "      <td>1022.000000</td>\n",
       "      <td>1022.000000</td>\n",
       "      <td>1022.000000</td>\n",
       "      <td>1022.000000</td>\n",
       "      <td>1022.000000</td>\n",
       "      <td>1022.000000</td>\n",
       "      <td>1022.000000</td>\n",
       "      <td>1022.000000</td>\n",
       "      <td>1022.000000</td>\n",
       "    </tr>\n",
       "    <tr>\n",
       "      <th>mean</th>\n",
       "      <td>0.225970</td>\n",
       "      <td>0.186695</td>\n",
       "      <td>0.044102</td>\n",
       "      <td>0.509173</td>\n",
       "      <td>0.506570</td>\n",
       "      <td>0.720915</td>\n",
       "      <td>0.578180</td>\n",
       "      <td>0.065627</td>\n",
       "      <td>0.078599</td>\n",
       "      <td>0.030892</td>\n",
       "      <td>0.266501</td>\n",
       "      <td>0.173965</td>\n",
       "      <td>0.183178</td>\n",
       "      <td>0.168656</td>\n",
       "      <td>0.009661</td>\n",
       "      <td>0.207284</td>\n",
       "      <td>0.202055</td>\n",
       "      <td>0.027886</td>\n",
       "      <td>0.525440</td>\n",
       "      <td>0.183464</td>\n",
       "      <td>0.356654</td>\n",
       "      <td>0.349641</td>\n",
       "      <td>0.320228</td>\n",
       "      <td>0.202544</td>\n",
       "      <td>0.937230</td>\n",
       "      <td>0.444227</td>\n",
       "      <td>0.337105</td>\n",
       "      <td>0.107022</td>\n",
       "      <td>0.087825</td>\n",
       "      <td>0.067758</td>\n",
       "      <td>0.007745</td>\n",
       "      <td>0.030793</td>\n",
       "      <td>0.004662</td>\n",
       "      <td>0.004708</td>\n",
       "      <td>0.479808</td>\n",
       "      <td>0.457436</td>\n",
       "    </tr>\n",
       "    <tr>\n",
       "      <th>std</th>\n",
       "      <td>0.261272</td>\n",
       "      <td>0.113196</td>\n",
       "      <td>0.053027</td>\n",
       "      <td>0.171749</td>\n",
       "      <td>0.156629</td>\n",
       "      <td>0.219297</td>\n",
       "      <td>0.345627</td>\n",
       "      <td>0.113585</td>\n",
       "      <td>0.082287</td>\n",
       "      <td>0.105250</td>\n",
       "      <td>0.206715</td>\n",
       "      <td>0.073255</td>\n",
       "      <td>0.090755</td>\n",
       "      <td>0.211830</td>\n",
       "      <td>0.084342</td>\n",
       "      <td>0.101418</td>\n",
       "      <td>0.258121</td>\n",
       "      <td>0.116911</td>\n",
       "      <td>0.182945</td>\n",
       "      <td>0.247120</td>\n",
       "      <td>0.105550</td>\n",
       "      <td>0.076342</td>\n",
       "      <td>0.149711</td>\n",
       "      <td>0.214214</td>\n",
       "      <td>0.210763</td>\n",
       "      <td>0.183344</td>\n",
       "      <td>0.149939</td>\n",
       "      <td>0.146645</td>\n",
       "      <td>0.125954</td>\n",
       "      <td>0.185525</td>\n",
       "      <td>0.064628</td>\n",
       "      <td>0.115465</td>\n",
       "      <td>0.061336</td>\n",
       "      <td>0.040469</td>\n",
       "      <td>0.248307</td>\n",
       "      <td>0.333449</td>\n",
       "    </tr>\n",
       "    <tr>\n",
       "      <th>min</th>\n",
       "      <td>0.000000</td>\n",
       "      <td>0.000000</td>\n",
       "      <td>0.000000</td>\n",
       "      <td>0.000000</td>\n",
       "      <td>0.000000</td>\n",
       "      <td>0.000000</td>\n",
       "      <td>0.000000</td>\n",
       "      <td>0.000000</td>\n",
       "      <td>0.000000</td>\n",
       "      <td>0.000000</td>\n",
       "      <td>0.000000</td>\n",
       "      <td>0.000000</td>\n",
       "      <td>0.000000</td>\n",
       "      <td>0.000000</td>\n",
       "      <td>0.000000</td>\n",
       "      <td>0.000000</td>\n",
       "      <td>0.000000</td>\n",
       "      <td>0.000000</td>\n",
       "      <td>0.000000</td>\n",
       "      <td>0.000000</td>\n",
       "      <td>0.000000</td>\n",
       "      <td>0.000000</td>\n",
       "      <td>0.000000</td>\n",
       "      <td>0.000000</td>\n",
       "      <td>0.000000</td>\n",
       "      <td>0.000000</td>\n",
       "      <td>0.000000</td>\n",
       "      <td>0.000000</td>\n",
       "      <td>0.000000</td>\n",
       "      <td>0.000000</td>\n",
       "      <td>0.000000</td>\n",
       "      <td>0.000000</td>\n",
       "      <td>0.000000</td>\n",
       "      <td>0.000000</td>\n",
       "      <td>0.000000</td>\n",
       "      <td>0.000000</td>\n",
       "    </tr>\n",
       "    <tr>\n",
       "      <th>25%</th>\n",
       "      <td>0.000000</td>\n",
       "      <td>0.130990</td>\n",
       "      <td>0.029280</td>\n",
       "      <td>0.375000</td>\n",
       "      <td>0.428571</td>\n",
       "      <td>0.594203</td>\n",
       "      <td>0.266667</td>\n",
       "      <td>0.000000</td>\n",
       "      <td>0.000000</td>\n",
       "      <td>0.000000</td>\n",
       "      <td>0.106479</td>\n",
       "      <td>0.130278</td>\n",
       "      <td>0.119444</td>\n",
       "      <td>0.000000</td>\n",
       "      <td>0.000000</td>\n",
       "      <td>0.132062</td>\n",
       "      <td>0.000000</td>\n",
       "      <td>0.000000</td>\n",
       "      <td>0.333333</td>\n",
       "      <td>0.000000</td>\n",
       "      <td>0.250000</td>\n",
       "      <td>0.333333</td>\n",
       "      <td>0.181818</td>\n",
       "      <td>0.000000</td>\n",
       "      <td>0.974627</td>\n",
       "      <td>0.250000</td>\n",
       "      <td>0.238364</td>\n",
       "      <td>0.000000</td>\n",
       "      <td>0.000000</td>\n",
       "      <td>0.000000</td>\n",
       "      <td>0.000000</td>\n",
       "      <td>0.000000</td>\n",
       "      <td>0.000000</td>\n",
       "      <td>0.000000</td>\n",
       "      <td>0.272727</td>\n",
       "      <td>0.250000</td>\n",
       "    </tr>\n",
       "    <tr>\n",
       "      <th>50%</th>\n",
       "      <td>0.176471</td>\n",
       "      <td>0.201278</td>\n",
       "      <td>0.038536</td>\n",
       "      <td>0.500000</td>\n",
       "      <td>0.428571</td>\n",
       "      <td>0.728261</td>\n",
       "      <td>0.725000</td>\n",
       "      <td>0.000000</td>\n",
       "      <td>0.067417</td>\n",
       "      <td>0.000000</td>\n",
       "      <td>0.225267</td>\n",
       "      <td>0.162848</td>\n",
       "      <td>0.163889</td>\n",
       "      <td>0.000000</td>\n",
       "      <td>0.000000</td>\n",
       "      <td>0.197540</td>\n",
       "      <td>0.000000</td>\n",
       "      <td>0.000000</td>\n",
       "      <td>0.666667</td>\n",
       "      <td>0.000000</td>\n",
       "      <td>0.375000</td>\n",
       "      <td>0.333333</td>\n",
       "      <td>0.272727</td>\n",
       "      <td>0.333333</td>\n",
       "      <td>0.983582</td>\n",
       "      <td>0.500000</td>\n",
       "      <td>0.338505</td>\n",
       "      <td>0.000000</td>\n",
       "      <td>0.047532</td>\n",
       "      <td>0.000000</td>\n",
       "      <td>0.000000</td>\n",
       "      <td>0.000000</td>\n",
       "      <td>0.000000</td>\n",
       "      <td>0.000000</td>\n",
       "      <td>0.454545</td>\n",
       "      <td>0.500000</td>\n",
       "    </tr>\n",
       "    <tr>\n",
       "      <th>75%</th>\n",
       "      <td>0.294118</td>\n",
       "      <td>0.252396</td>\n",
       "      <td>0.048218</td>\n",
       "      <td>0.625000</td>\n",
       "      <td>0.571429</td>\n",
       "      <td>0.934783</td>\n",
       "      <td>0.900000</td>\n",
       "      <td>0.105000</td>\n",
       "      <td>0.127525</td>\n",
       "      <td>0.000000</td>\n",
       "      <td>0.377845</td>\n",
       "      <td>0.212725</td>\n",
       "      <td>0.235764</td>\n",
       "      <td>0.353027</td>\n",
       "      <td>0.000000</td>\n",
       "      <td>0.259032</td>\n",
       "      <td>0.500000</td>\n",
       "      <td>0.000000</td>\n",
       "      <td>0.666667</td>\n",
       "      <td>0.500000</td>\n",
       "      <td>0.375000</td>\n",
       "      <td>0.333333</td>\n",
       "      <td>0.363636</td>\n",
       "      <td>0.333333</td>\n",
       "      <td>0.995522</td>\n",
       "      <td>0.500000</td>\n",
       "      <td>0.406206</td>\n",
       "      <td>0.196033</td>\n",
       "      <td>0.127971</td>\n",
       "      <td>0.000000</td>\n",
       "      <td>0.000000</td>\n",
       "      <td>0.000000</td>\n",
       "      <td>0.000000</td>\n",
       "      <td>0.000000</td>\n",
       "      <td>0.636364</td>\n",
       "      <td>0.750000</td>\n",
       "    </tr>\n",
       "    <tr>\n",
       "      <th>max</th>\n",
       "      <td>1.000000</td>\n",
       "      <td>1.000000</td>\n",
       "      <td>1.000000</td>\n",
       "      <td>1.000000</td>\n",
       "      <td>1.000000</td>\n",
       "      <td>1.000000</td>\n",
       "      <td>1.000000</td>\n",
       "      <td>1.000000</td>\n",
       "      <td>1.000000</td>\n",
       "      <td>1.000000</td>\n",
       "      <td>1.000000</td>\n",
       "      <td>1.000000</td>\n",
       "      <td>1.000000</td>\n",
       "      <td>1.000000</td>\n",
       "      <td>1.000000</td>\n",
       "      <td>1.000000</td>\n",
       "      <td>1.000000</td>\n",
       "      <td>1.000000</td>\n",
       "      <td>1.000000</td>\n",
       "      <td>1.000000</td>\n",
       "      <td>1.000000</td>\n",
       "      <td>1.000000</td>\n",
       "      <td>1.000000</td>\n",
       "      <td>1.000000</td>\n",
       "      <td>1.000000</td>\n",
       "      <td>1.000000</td>\n",
       "      <td>1.000000</td>\n",
       "      <td>1.000000</td>\n",
       "      <td>1.000000</td>\n",
       "      <td>1.000000</td>\n",
       "      <td>1.000000</td>\n",
       "      <td>1.000000</td>\n",
       "      <td>1.000000</td>\n",
       "      <td>1.000000</td>\n",
       "      <td>1.000000</td>\n",
       "      <td>1.000000</td>\n",
       "    </tr>\n",
       "  </tbody>\n",
       "</table>\n",
       "</div>"
      ],
      "text/plain": [
       "        MSSubClass  LotFrontage      LotArea  OverallQual  OverallCond  \\\n",
       "count  1022.000000  1022.000000  1022.000000  1022.000000  1022.000000   \n",
       "mean      0.225970     0.186695     0.044102     0.509173     0.506570   \n",
       "std       0.261272     0.113196     0.053027     0.171749     0.156629   \n",
       "min       0.000000     0.000000     0.000000     0.000000     0.000000   \n",
       "25%       0.000000     0.130990     0.029280     0.375000     0.428571   \n",
       "50%       0.176471     0.201278     0.038536     0.500000     0.428571   \n",
       "75%       0.294118     0.252396     0.048218     0.625000     0.571429   \n",
       "max       1.000000     1.000000     1.000000     1.000000     1.000000   \n",
       "\n",
       "         YearBuilt  YearRemodAdd   MasVnrArea   BsmtFinSF1   BsmtFinSF2  \\\n",
       "count  1022.000000   1022.000000  1022.000000  1022.000000  1022.000000   \n",
       "mean      0.720915      0.578180     0.065627     0.078599     0.030892   \n",
       "std       0.219297      0.345627     0.113585     0.082287     0.105250   \n",
       "min       0.000000      0.000000     0.000000     0.000000     0.000000   \n",
       "25%       0.594203      0.266667     0.000000     0.000000     0.000000   \n",
       "50%       0.728261      0.725000     0.000000     0.067417     0.000000   \n",
       "75%       0.934783      0.900000     0.105000     0.127525     0.000000   \n",
       "max       1.000000      1.000000     1.000000     1.000000     1.000000   \n",
       "\n",
       "         BsmtUnfSF  TotalBsmtSF     1stFlrSF     2ndFlrSF  LowQualFinSF  \\\n",
       "count  1022.000000  1022.000000  1022.000000  1022.000000   1022.000000   \n",
       "mean      0.266501     0.173965     0.183178     0.168656      0.009661   \n",
       "std       0.206715     0.073255     0.090755     0.211830      0.084342   \n",
       "min       0.000000     0.000000     0.000000     0.000000      0.000000   \n",
       "25%       0.106479     0.130278     0.119444     0.000000      0.000000   \n",
       "50%       0.225267     0.162848     0.163889     0.000000      0.000000   \n",
       "75%       0.377845     0.212725     0.235764     0.353027      0.000000   \n",
       "max       1.000000     1.000000     1.000000     1.000000      1.000000   \n",
       "\n",
       "         GrLivArea  BsmtFullBath  BsmtHalfBath     FullBath     HalfBath  \\\n",
       "count  1022.000000   1022.000000   1022.000000  1022.000000  1022.000000   \n",
       "mean      0.207284      0.202055      0.027886     0.525440     0.183464   \n",
       "std       0.101418      0.258121      0.116911     0.182945     0.247120   \n",
       "min       0.000000      0.000000      0.000000     0.000000     0.000000   \n",
       "25%       0.132062      0.000000      0.000000     0.333333     0.000000   \n",
       "50%       0.197540      0.000000      0.000000     0.666667     0.000000   \n",
       "75%       0.259032      0.500000      0.000000     0.666667     0.500000   \n",
       "max       1.000000      1.000000      1.000000     1.000000     1.000000   \n",
       "\n",
       "       BedroomAbvGr  KitchenAbvGr  TotRmsAbvGrd   Fireplaces  GarageYrBlt  \\\n",
       "count   1022.000000   1022.000000   1022.000000  1022.000000  1022.000000   \n",
       "mean       0.356654      0.349641      0.320228     0.202544     0.937230   \n",
       "std        0.105550      0.076342      0.149711     0.214214     0.210763   \n",
       "min        0.000000      0.000000      0.000000     0.000000     0.000000   \n",
       "25%        0.250000      0.333333      0.181818     0.000000     0.974627   \n",
       "50%        0.375000      0.333333      0.272727     0.333333     0.983582   \n",
       "75%        0.375000      0.333333      0.363636     0.333333     0.995522   \n",
       "max        1.000000      1.000000      1.000000     1.000000     1.000000   \n",
       "\n",
       "        GarageCars   GarageArea   WoodDeckSF  OpenPorchSF  EnclosedPorch  \\\n",
       "count  1022.000000  1022.000000  1022.000000  1022.000000    1022.000000   \n",
       "mean      0.444227     0.337105     0.107022     0.087825       0.067758   \n",
       "std       0.183344     0.149939     0.146645     0.125954       0.185525   \n",
       "min       0.000000     0.000000     0.000000     0.000000       0.000000   \n",
       "25%       0.250000     0.238364     0.000000     0.000000       0.000000   \n",
       "50%       0.500000     0.338505     0.000000     0.047532       0.000000   \n",
       "75%       0.500000     0.406206     0.196033     0.127971       0.000000   \n",
       "max       1.000000     1.000000     1.000000     1.000000       1.000000   \n",
       "\n",
       "         3SsnPorch  ScreenPorch     PoolArea      MiscVal       MoSold  \\\n",
       "count  1022.000000  1022.000000  1022.000000  1022.000000  1022.000000   \n",
       "mean      0.007745     0.030793     0.004662     0.004708     0.479808   \n",
       "std       0.064628     0.115465     0.061336     0.040469     0.248307   \n",
       "min       0.000000     0.000000     0.000000     0.000000     0.000000   \n",
       "25%       0.000000     0.000000     0.000000     0.000000     0.272727   \n",
       "50%       0.000000     0.000000     0.000000     0.000000     0.454545   \n",
       "75%       0.000000     0.000000     0.000000     0.000000     0.636364   \n",
       "max       1.000000     1.000000     1.000000     1.000000     1.000000   \n",
       "\n",
       "            YrSold  \n",
       "count  1022.000000  \n",
       "mean      0.457436  \n",
       "std       0.333449  \n",
       "min       0.000000  \n",
       "25%       0.250000  \n",
       "50%       0.500000  \n",
       "75%       0.750000  \n",
       "max       1.000000  "
      ]
     },
     "execution_count": 49,
     "metadata": {},
     "output_type": "execute_result"
    }
   ],
   "source": [
    "x_train_scaled.describe()"
   ]
  },
  {
   "cell_type": "code",
   "execution_count": 50,
   "metadata": {},
   "outputs": [
    {
     "data": {
      "text/plain": [
       "LinearRegression()"
      ]
     },
     "execution_count": 50,
     "metadata": {},
     "output_type": "execute_result"
    }
   ],
   "source": [
    "regressor_scaled = LinearRegression()\n",
    "regressor_scaled.fit(x_train_scaled, y_train)"
   ]
  },
  {
   "cell_type": "code",
   "execution_count": 51,
   "metadata": {},
   "outputs": [
    {
     "name": "stdout",
     "output_type": "stream",
     "text": [
      "train score:  0.7981264951226594\n",
      "test score:  0.8411998684368274\n"
     ]
    }
   ],
   "source": [
    "print(\"train score: \", regressor_scaled.score(x_train_scaled, y_train))\n",
    "print(\"test score: \", regressor_scaled.score(x_test_scaled, y_test))"
   ]
  },
  {
   "cell_type": "markdown",
   "metadata": {},
   "source": [
    "Резултатът се запазва, но пък сега данните ни са в еднакъв диапазон."
   ]
  },
  {
   "cell_type": "markdown",
   "metadata": {},
   "source": [
    "### Категорийни данни "
   ]
  },
  {
   "cell_type": "code",
   "execution_count": 52,
   "metadata": {
    "slideshow": {
     "slide_type": "slide"
    }
   },
   "outputs": [
    {
     "name": "stdout",
     "output_type": "stream",
     "text": [
      "Index(['MSZoning', 'Street', 'Alley', 'LotShape', 'LandContour', 'Utilities',\n",
      "       'LotConfig', 'LandSlope', 'Neighborhood', 'Condition1', 'Condition2',\n",
      "       'BldgType', 'HouseStyle', 'RoofStyle', 'RoofMatl', 'Exterior1st',\n",
      "       'Exterior2nd', 'MasVnrType', 'ExterQual', 'ExterCond', 'Foundation',\n",
      "       'BsmtQual', 'BsmtCond', 'BsmtExposure', 'BsmtFinType1', 'BsmtFinType2',\n",
      "       'Heating', 'HeatingQC', 'CentralAir', 'Electrical', 'KitchenQual',\n",
      "       'Functional', 'FireplaceQu', 'GarageType', 'GarageFinish', 'GarageQual',\n",
      "       'GarageCond', 'PavedDrive', 'PoolQC', 'Fence', 'MiscFeature',\n",
      "       'SaleType', 'SaleCondition'],\n",
      "      dtype='object')\n"
     ]
    }
   ],
   "source": [
    "categorical_columns = train.dtypes[train.dtypes == 'object'].index\n",
    "print(categorical_columns)"
   ]
  },
  {
   "cell_type": "markdown",
   "metadata": {
    "slideshow": {
     "slide_type": "slide"
    }
   },
   "source": [
    "Би било добре.... да разгледаме какво съдържат всички колони, но... \n",
    "\n",
    "![какво е ML](https://imgs.xkcd.com/comics/machine_learning.png)"
   ]
  },
  {
   "cell_type": "markdown",
   "metadata": {
    "slideshow": {
     "slide_type": "slide"
    }
   },
   "source": [
    "### Как да използваме данните от останалите колони? \n",
    "\n",
    "Hint: Трябва да ги умножаваме с тегла – трябва да са числови стойности, а не низове.\n",
    "\n",
    "Може да ползваме трансформатора [`LabelEncoder`](http://scikit-learn.org/stable/modules/generated/sklearn.preprocessing.LabelEncoder.html). Той ще замени замени всеки уникален низ с число."
   ]
  },
  {
   "cell_type": "code",
   "execution_count": 55,
   "metadata": {
    "slideshow": {
     "slide_type": "slide"
    }
   },
   "outputs": [
    {
     "name": "stdout",
     "output_type": "stream",
     "text": [
      "Learned classes: ['amsterdam' 'paris' 'tokyo']\n",
      "transofrmed: ['tokyo', 'tokyo', 'paris']  to: [2 2 1]\n",
      "inverse: [2, 2, 1, 0]  to: ['tokyo' 'tokyo' 'paris' 'amsterdam']\n"
     ]
    }
   ],
   "source": [
    "from sklearn.preprocessing import LabelEncoder\n",
    "\n",
    "le = LabelEncoder()\n",
    "le.fit([\"paris\", \"paris\", \"tokyo\", \"amsterdam\"])\n",
    "\n",
    "print(\"Learned classes:\", le.classes_)\n",
    "\n",
    "capitals_list = [\"tokyo\", \"tokyo\", \"paris\"]\n",
    "\n",
    "print(\"transofrmed:\", capitals_list, \" to:\", le.transform([\"tokyo\", \"tokyo\", \"paris\"])) \n",
    "print(\"inverse:\", [2, 2, 1, 0], \" to:\", le.inverse_transform([2, 2, 1, 0]))"
   ]
  },
  {
   "cell_type": "markdown",
   "metadata": {
    "slideshow": {
     "slide_type": "slide"
    }
   },
   "source": [
    "Тук обаче имаме проблем.\n",
    "\n",
    "Ако теглото за столица е 4. Тогава Амстердам ще има стойност `4 * 0 = 0`, а Париж `4 * 1 = 4`.\n",
    "\n",
    "Тук може да ни помогне трансформатора [`OneHotEncoder`](https://scikit-learn.org/stable/modules/generated/sklearn.preprocessing.OneHotEncoder.html#sklearn.preprocessing.OneHotEncoder). Той ще създаде по една колона за всяка стойност, която ще бъде `0` или `1` спрямо дали колоната има тази стойност или не:"
   ]
  },
  {
   "cell_type": "code",
   "execution_count": 66,
   "metadata": {
    "slideshow": {
     "slide_type": "slide"
    }
   },
   "outputs": [
    {
     "name": "stdout",
     "output_type": "stream",
     "text": [
      "Categories:  [array(['Female', 'Male'], dtype=object), array([1, 2, 3], dtype=object)]\n"
     ]
    }
   ],
   "source": [
    "from sklearn.preprocessing import OneHotEncoder\n",
    "enc = OneHotEncoder()\n",
    "\n",
    "enc = OneHotEncoder(handle_unknown='ignore')\n",
    "X = [['Male', 1], ['Female', 3], ['Female', 2]]\n",
    "enc.fit(X)\n",
    "\n",
    "print(\"Categories: \", enc.categories_)"
   ]
  },
  {
   "cell_type": "code",
   "execution_count": 67,
   "metadata": {},
   "outputs": [
    {
     "data": {
      "text/plain": [
       "array([[1., 0., 1., 0., 0.],\n",
       "       [0., 1., 0., 0., 0.]])"
      ]
     },
     "execution_count": 67,
     "metadata": {},
     "output_type": "execute_result"
    }
   ],
   "source": [
    "enc.transform([['Female', 1], ['Male', 4]]).toarray()"
   ]
  },
  {
   "cell_type": "code",
   "execution_count": 68,
   "metadata": {},
   "outputs": [
    {
     "data": {
      "text/plain": [
       "array([['Male', 1],\n",
       "       [None, 2]], dtype=object)"
      ]
     },
     "execution_count": 68,
     "metadata": {},
     "output_type": "execute_result"
    }
   ],
   "source": [
    "enc.inverse_transform([[0, 1, 1, 0, 0], [0, 0, 0, 1, 0]])"
   ]
  },
  {
   "cell_type": "markdown",
   "metadata": {
    "slideshow": {
     "slide_type": "slide"
    }
   },
   "source": [
    "За чистота първо ще превирънем всички низови променливи в числови с помощта на LabelEncoder. Той обаче работи само с 1 колона. Трябва да ги завъртим в цикъл за всички колони."
   ]
  },
  {
   "cell_type": "code",
   "execution_count": 73,
   "metadata": {
    "slideshow": {
     "slide_type": "subslide"
    }
   },
   "outputs": [
    {
     "name": "stdout",
     "output_type": "stream",
     "text": [
      "['C (all)' 'FV' 'RH' 'RL' 'RM']\n",
      "['Grvl' 'Pave']\n"
     ]
    }
   ],
   "source": [
    "train = train.fillna(\"\")\n",
    "encoders = {col: LabelEncoder().fit(train[col]) for col in categorical_columns}\n",
    "\n",
    "print(encoders['MSZoning'].classes_)\n",
    "print(encoders['Street'].classes_)"
   ]
  },
  {
   "cell_type": "markdown",
   "metadata": {
    "slideshow": {
     "slide_type": "slide"
    }
   },
   "source": [
    "Сега ще променим низовете към новите идентификатори:"
   ]
  },
  {
   "cell_type": "code",
   "execution_count": 74,
   "metadata": {
    "slideshow": {
     "slide_type": "subslide"
    }
   },
   "outputs": [
    {
     "data": {
      "text/html": [
       "<div>\n",
       "<style scoped>\n",
       "    .dataframe tbody tr th:only-of-type {\n",
       "        vertical-align: middle;\n",
       "    }\n",
       "\n",
       "    .dataframe tbody tr th {\n",
       "        vertical-align: top;\n",
       "    }\n",
       "\n",
       "    .dataframe thead th {\n",
       "        text-align: right;\n",
       "    }\n",
       "</style>\n",
       "<table border=\"1\" class=\"dataframe\">\n",
       "  <thead>\n",
       "    <tr style=\"text-align: right;\">\n",
       "      <th></th>\n",
       "      <th>MSZoning</th>\n",
       "      <th>Street</th>\n",
       "      <th>Alley</th>\n",
       "      <th>LotShape</th>\n",
       "      <th>LandContour</th>\n",
       "      <th>Utilities</th>\n",
       "      <th>...</th>\n",
       "      <th>PavedDrive</th>\n",
       "      <th>PoolQC</th>\n",
       "      <th>Fence</th>\n",
       "      <th>MiscFeature</th>\n",
       "      <th>SaleType</th>\n",
       "      <th>SaleCondition</th>\n",
       "    </tr>\n",
       "    <tr>\n",
       "      <th>Id</th>\n",
       "      <th></th>\n",
       "      <th></th>\n",
       "      <th></th>\n",
       "      <th></th>\n",
       "      <th></th>\n",
       "      <th></th>\n",
       "      <th></th>\n",
       "      <th></th>\n",
       "      <th></th>\n",
       "      <th></th>\n",
       "      <th></th>\n",
       "      <th></th>\n",
       "      <th></th>\n",
       "    </tr>\n",
       "  </thead>\n",
       "  <tbody>\n",
       "    <tr>\n",
       "      <th>1</th>\n",
       "      <td>3</td>\n",
       "      <td>1</td>\n",
       "      <td>0</td>\n",
       "      <td>3</td>\n",
       "      <td>3</td>\n",
       "      <td>0</td>\n",
       "      <td>...</td>\n",
       "      <td>2</td>\n",
       "      <td>0</td>\n",
       "      <td>0</td>\n",
       "      <td>0</td>\n",
       "      <td>8</td>\n",
       "      <td>4</td>\n",
       "    </tr>\n",
       "    <tr>\n",
       "      <th>2</th>\n",
       "      <td>3</td>\n",
       "      <td>1</td>\n",
       "      <td>0</td>\n",
       "      <td>3</td>\n",
       "      <td>3</td>\n",
       "      <td>0</td>\n",
       "      <td>...</td>\n",
       "      <td>2</td>\n",
       "      <td>0</td>\n",
       "      <td>0</td>\n",
       "      <td>0</td>\n",
       "      <td>8</td>\n",
       "      <td>4</td>\n",
       "    </tr>\n",
       "    <tr>\n",
       "      <th>3</th>\n",
       "      <td>3</td>\n",
       "      <td>1</td>\n",
       "      <td>0</td>\n",
       "      <td>0</td>\n",
       "      <td>3</td>\n",
       "      <td>0</td>\n",
       "      <td>...</td>\n",
       "      <td>2</td>\n",
       "      <td>0</td>\n",
       "      <td>0</td>\n",
       "      <td>0</td>\n",
       "      <td>8</td>\n",
       "      <td>4</td>\n",
       "    </tr>\n",
       "    <tr>\n",
       "      <th>4</th>\n",
       "      <td>3</td>\n",
       "      <td>1</td>\n",
       "      <td>0</td>\n",
       "      <td>0</td>\n",
       "      <td>3</td>\n",
       "      <td>0</td>\n",
       "      <td>...</td>\n",
       "      <td>2</td>\n",
       "      <td>0</td>\n",
       "      <td>0</td>\n",
       "      <td>0</td>\n",
       "      <td>8</td>\n",
       "      <td>0</td>\n",
       "    </tr>\n",
       "    <tr>\n",
       "      <th>5</th>\n",
       "      <td>3</td>\n",
       "      <td>1</td>\n",
       "      <td>0</td>\n",
       "      <td>0</td>\n",
       "      <td>3</td>\n",
       "      <td>0</td>\n",
       "      <td>...</td>\n",
       "      <td>2</td>\n",
       "      <td>0</td>\n",
       "      <td>0</td>\n",
       "      <td>0</td>\n",
       "      <td>8</td>\n",
       "      <td>4</td>\n",
       "    </tr>\n",
       "    <tr>\n",
       "      <th>6</th>\n",
       "      <td>3</td>\n",
       "      <td>1</td>\n",
       "      <td>0</td>\n",
       "      <td>0</td>\n",
       "      <td>3</td>\n",
       "      <td>0</td>\n",
       "      <td>...</td>\n",
       "      <td>2</td>\n",
       "      <td>0</td>\n",
       "      <td>3</td>\n",
       "      <td>3</td>\n",
       "      <td>8</td>\n",
       "      <td>4</td>\n",
       "    </tr>\n",
       "    <tr>\n",
       "      <th>7</th>\n",
       "      <td>3</td>\n",
       "      <td>1</td>\n",
       "      <td>0</td>\n",
       "      <td>3</td>\n",
       "      <td>3</td>\n",
       "      <td>0</td>\n",
       "      <td>...</td>\n",
       "      <td>2</td>\n",
       "      <td>0</td>\n",
       "      <td>0</td>\n",
       "      <td>0</td>\n",
       "      <td>8</td>\n",
       "      <td>4</td>\n",
       "    </tr>\n",
       "    <tr>\n",
       "      <th>8</th>\n",
       "      <td>3</td>\n",
       "      <td>1</td>\n",
       "      <td>0</td>\n",
       "      <td>0</td>\n",
       "      <td>3</td>\n",
       "      <td>0</td>\n",
       "      <td>...</td>\n",
       "      <td>2</td>\n",
       "      <td>0</td>\n",
       "      <td>0</td>\n",
       "      <td>3</td>\n",
       "      <td>8</td>\n",
       "      <td>4</td>\n",
       "    </tr>\n",
       "  </tbody>\n",
       "</table>\n",
       "<p>8 rows × 43 columns</p>\n",
       "</div>"
      ],
      "text/plain": [
       "    MSZoning  Street  Alley  LotShape  LandContour  Utilities  ...  \\\n",
       "Id                                                             ...   \n",
       "1          3       1      0         3            3          0  ...   \n",
       "2          3       1      0         3            3          0  ...   \n",
       "3          3       1      0         0            3          0  ...   \n",
       "4          3       1      0         0            3          0  ...   \n",
       "5          3       1      0         0            3          0  ...   \n",
       "6          3       1      0         0            3          0  ...   \n",
       "7          3       1      0         3            3          0  ...   \n",
       "8          3       1      0         0            3          0  ...   \n",
       "\n",
       "    PavedDrive  PoolQC  Fence  MiscFeature  SaleType  SaleCondition  \n",
       "Id                                                                   \n",
       "1            2       0      0            0         8              4  \n",
       "2            2       0      0            0         8              4  \n",
       "3            2       0      0            0         8              4  \n",
       "4            2       0      0            0         8              0  \n",
       "5            2       0      0            0         8              4  \n",
       "6            2       0      3            3         8              4  \n",
       "7            2       0      0            0         8              4  \n",
       "8            2       0      0            3         8              4  \n",
       "\n",
       "[8 rows x 43 columns]"
      ]
     },
     "execution_count": 74,
     "metadata": {},
     "output_type": "execute_result"
    }
   ],
   "source": [
    "def encode_categorical(data, columns, encoders):\n",
    "    data = data.fillna(\"\")\n",
    "    return pd.DataFrame({col: encoders[col].transform(data[col]) for col in columns},\n",
    "                        index = data.index)\n",
    "\n",
    "train_encoded = encode_categorical(train, categorical_columns, encoders)\n",
    "\n",
    "pd.options.display.max_columns=12\n",
    "train_encoded.head(8)"
   ]
  },
  {
   "cell_type": "markdown",
   "metadata": {
    "slideshow": {
     "slide_type": "slide"
    }
   },
   "source": [
    "И сега в one-hot:"
   ]
  },
  {
   "cell_type": "code",
   "execution_count": 76,
   "metadata": {
    "slideshow": {
     "slide_type": "subslide"
    }
   },
   "outputs": [
    {
     "name": "stdout",
     "output_type": "stream",
     "text": [
      "[[0. 0. 0. ... 0. 1. 0.]\n",
      " [0. 0. 0. ... 0. 1. 0.]\n",
      " [0. 0. 0. ... 0. 1. 0.]\n",
      " ...\n",
      " [0. 0. 0. ... 0. 1. 0.]\n",
      " [0. 0. 0. ... 0. 0. 0.]\n",
      " [0. 0. 0. ... 0. 1. 0.]]\n",
      "(1460, 268)\n"
     ]
    }
   ],
   "source": [
    "one_hot_encoder = OneHotEncoder().fit(train_encoded)\n",
    "\n",
    "print(one_hot_encoder.transform(train_encoded[:10]).todense())\n",
    "print(one_hot_encoder.transform(train_encoded).shape)"
   ]
  },
  {
   "cell_type": "markdown",
   "metadata": {
    "slideshow": {
     "slide_type": "slide"
    }
   },
   "source": [
    "### Да натренираме... регресор само с тези данни"
   ]
  },
  {
   "cell_type": "code",
   "execution_count": 77,
   "metadata": {
    "slideshow": {
     "slide_type": "subslide"
    }
   },
   "outputs": [
    {
     "name": "stdout",
     "output_type": "stream",
     "text": [
      "train score:  0.8770468421978386\n",
      "test score:  0.7430330248654301\n"
     ]
    }
   ],
   "source": [
    "from sklearn.linear_model import LinearRegression \n",
    "\n",
    "one_hot_x_train = one_hot_encoder.transform(encode_categorical(x_train[categorical_columns], categorical_columns, encoders))\n",
    "\n",
    "cat_regression = LinearRegression().fit(one_hot_x_train, y_train)\n",
    "print(\"train score: \", cat_regression.score(one_hot_x_train, y_train))\n",
    "\n",
    "one_hot_x_test = one_hot_encoder.transform(encode_categorical(x_test[categorical_columns], categorical_columns, encoders))\n",
    "print(\"test score: \", cat_regression.score(one_hot_x_test, y_test))"
   ]
  },
  {
   "cell_type": "code",
   "execution_count": 78,
   "metadata": {},
   "outputs": [
    {
     "data": {
      "text/plain": [
       "(1022, 36)"
      ]
     },
     "execution_count": 78,
     "metadata": {},
     "output_type": "execute_result"
    }
   ],
   "source": [
    "x_train[numeric_column_names].shape"
   ]
  },
  {
   "cell_type": "markdown",
   "metadata": {
    "slideshow": {
     "slide_type": "slide"
    }
   },
   "source": [
    "Предишните резултати за обучение: 0.798 за тест: 0.841\n",
    "\n",
    "Новите са: 0.877 и 0.743\n",
    "\n",
    "Този модел овърфитва, но пак има стойност. Можем да съединим характеристиките в общ модел."
   ]
  },
  {
   "cell_type": "code",
   "execution_count": 80,
   "metadata": {
    "slideshow": {
     "slide_type": "subslide"
    }
   },
   "outputs": [
    {
     "data": {
      "text/plain": [
       "((1022, 36), (1022, 268))"
      ]
     },
     "execution_count": 80,
     "metadata": {},
     "output_type": "execute_result"
    }
   ],
   "source": [
    "x_train[numeric_column_names].shape, one_hot_x_train.shape"
   ]
  },
  {
   "cell_type": "markdown",
   "metadata": {},
   "source": [
    "#### Забележка \n",
    "\n",
    "One hot encoding може да се прави и с [get_dummies](https://pandas.pydata.org/docs/reference/api/pandas.get_dummies.html) метода на pandas. За да се използва този метод обаче, ще трябват някои допълнителни трансформации. \n",
    "\n",
    "**NB**: One-hot varaiables = dummy variables = indicator variables"
   ]
  },
  {
   "cell_type": "code",
   "execution_count": 81,
   "metadata": {
    "scrolled": true
   },
   "outputs": [
    {
     "data": {
      "text/html": [
       "<div>\n",
       "<style scoped>\n",
       "    .dataframe tbody tr th:only-of-type {\n",
       "        vertical-align: middle;\n",
       "    }\n",
       "\n",
       "    .dataframe tbody tr th {\n",
       "        vertical-align: top;\n",
       "    }\n",
       "\n",
       "    .dataframe thead th {\n",
       "        text-align: right;\n",
       "    }\n",
       "</style>\n",
       "<table border=\"1\" class=\"dataframe\">\n",
       "  <thead>\n",
       "    <tr style=\"text-align: right;\">\n",
       "      <th></th>\n",
       "      <th>MSZoning_C (all)</th>\n",
       "      <th>MSZoning_FV</th>\n",
       "      <th>MSZoning_RH</th>\n",
       "      <th>MSZoning_RL</th>\n",
       "      <th>MSZoning_RM</th>\n",
       "      <th>Street_Grvl</th>\n",
       "      <th>...</th>\n",
       "      <th>SaleCondition_Abnorml</th>\n",
       "      <th>SaleCondition_AdjLand</th>\n",
       "      <th>SaleCondition_Alloca</th>\n",
       "      <th>SaleCondition_Family</th>\n",
       "      <th>SaleCondition_Normal</th>\n",
       "      <th>SaleCondition_Partial</th>\n",
       "    </tr>\n",
       "    <tr>\n",
       "      <th>Id</th>\n",
       "      <th></th>\n",
       "      <th></th>\n",
       "      <th></th>\n",
       "      <th></th>\n",
       "      <th></th>\n",
       "      <th></th>\n",
       "      <th></th>\n",
       "      <th></th>\n",
       "      <th></th>\n",
       "      <th></th>\n",
       "      <th></th>\n",
       "      <th></th>\n",
       "      <th></th>\n",
       "    </tr>\n",
       "  </thead>\n",
       "  <tbody>\n",
       "    <tr>\n",
       "      <th>128</th>\n",
       "      <td>0</td>\n",
       "      <td>0</td>\n",
       "      <td>0</td>\n",
       "      <td>0</td>\n",
       "      <td>1</td>\n",
       "      <td>0</td>\n",
       "      <td>...</td>\n",
       "      <td>0</td>\n",
       "      <td>0</td>\n",
       "      <td>0</td>\n",
       "      <td>0</td>\n",
       "      <td>1</td>\n",
       "      <td>0</td>\n",
       "    </tr>\n",
       "    <tr>\n",
       "      <th>878</th>\n",
       "      <td>0</td>\n",
       "      <td>0</td>\n",
       "      <td>0</td>\n",
       "      <td>1</td>\n",
       "      <td>0</td>\n",
       "      <td>0</td>\n",
       "      <td>...</td>\n",
       "      <td>0</td>\n",
       "      <td>0</td>\n",
       "      <td>0</td>\n",
       "      <td>0</td>\n",
       "      <td>1</td>\n",
       "      <td>0</td>\n",
       "    </tr>\n",
       "    <tr>\n",
       "      <th>880</th>\n",
       "      <td>0</td>\n",
       "      <td>0</td>\n",
       "      <td>0</td>\n",
       "      <td>1</td>\n",
       "      <td>0</td>\n",
       "      <td>0</td>\n",
       "      <td>...</td>\n",
       "      <td>0</td>\n",
       "      <td>0</td>\n",
       "      <td>0</td>\n",
       "      <td>0</td>\n",
       "      <td>1</td>\n",
       "      <td>0</td>\n",
       "    </tr>\n",
       "    <tr>\n",
       "      <th>163</th>\n",
       "      <td>0</td>\n",
       "      <td>0</td>\n",
       "      <td>0</td>\n",
       "      <td>1</td>\n",
       "      <td>0</td>\n",
       "      <td>0</td>\n",
       "      <td>...</td>\n",
       "      <td>0</td>\n",
       "      <td>0</td>\n",
       "      <td>0</td>\n",
       "      <td>0</td>\n",
       "      <td>0</td>\n",
       "      <td>1</td>\n",
       "    </tr>\n",
       "    <tr>\n",
       "      <th>1181</th>\n",
       "      <td>0</td>\n",
       "      <td>0</td>\n",
       "      <td>0</td>\n",
       "      <td>1</td>\n",
       "      <td>0</td>\n",
       "      <td>0</td>\n",
       "      <td>...</td>\n",
       "      <td>0</td>\n",
       "      <td>0</td>\n",
       "      <td>0</td>\n",
       "      <td>0</td>\n",
       "      <td>1</td>\n",
       "      <td>0</td>\n",
       "    </tr>\n",
       "  </tbody>\n",
       "</table>\n",
       "<p>5 rows × 249 columns</p>\n",
       "</div>"
      ],
      "text/plain": [
       "      MSZoning_C (all)  MSZoning_FV  MSZoning_RH  MSZoning_RL  MSZoning_RM  \\\n",
       "Id                                                                           \n",
       "128                  0            0            0            0            1   \n",
       "878                  0            0            0            1            0   \n",
       "880                  0            0            0            1            0   \n",
       "163                  0            0            0            1            0   \n",
       "1181                 0            0            0            1            0   \n",
       "\n",
       "      Street_Grvl  ...  SaleCondition_Abnorml  SaleCondition_AdjLand  \\\n",
       "Id                 ...                                                 \n",
       "128             0  ...                      0                      0   \n",
       "878             0  ...                      0                      0   \n",
       "880             0  ...                      0                      0   \n",
       "163             0  ...                      0                      0   \n",
       "1181            0  ...                      0                      0   \n",
       "\n",
       "      SaleCondition_Alloca  SaleCondition_Family  SaleCondition_Normal  \\\n",
       "Id                                                                       \n",
       "128                      0                     0                     1   \n",
       "878                      0                     0                     1   \n",
       "880                      0                     0                     1   \n",
       "163                      0                     0                     0   \n",
       "1181                     0                     0                     1   \n",
       "\n",
       "      SaleCondition_Partial  \n",
       "Id                           \n",
       "128                       0  \n",
       "878                       0  \n",
       "880                       0  \n",
       "163                       1  \n",
       "1181                      0  \n",
       "\n",
       "[5 rows x 249 columns]"
      ]
     },
     "execution_count": 81,
     "metadata": {},
     "output_type": "execute_result"
    }
   ],
   "source": [
    "pd.get_dummies(x_train[categorical_columns]).head()"
   ]
  },
  {
   "cell_type": "markdown",
   "metadata": {},
   "source": [
    "Да се върнем на съединяването на данните:"
   ]
  },
  {
   "cell_type": "code",
   "execution_count": 82,
   "metadata": {
    "slideshow": {
     "slide_type": "subslide"
    }
   },
   "outputs": [
    {
     "name": "stdout",
     "output_type": "stream",
     "text": [
      "(1022, 304) (438, 304)\n"
     ]
    }
   ],
   "source": [
    "new_x_train = pd.np.concatenate([one_hot_x_train.todense(), x_train[numeric_column_names]], axis=1)\n",
    "new_x_test = pd.np.concatenate([one_hot_x_test.todense(), x_test[numeric_column_names]], axis=1)\n",
    "print(new_x_train.shape, new_x_test.shape)"
   ]
  },
  {
   "cell_type": "code",
   "execution_count": 83,
   "metadata": {},
   "outputs": [],
   "source": [
    "# new_x_train = pd.np.concatenate([one_hot_x_train.todense(), x_train_scaled], axis=1)\n",
    "# new_x_test = pd.np.concatenate([one_hot_x_test.todense(), x_test_scaled], axis=1)\n",
    "# print(new_x_train.shape, new_x_test.shape)"
   ]
  },
  {
   "cell_type": "code",
   "execution_count": 84,
   "metadata": {
    "scrolled": true
   },
   "outputs": [
    {
     "data": {
      "text/html": [
       "<div>\n",
       "<style scoped>\n",
       "    .dataframe tbody tr th:only-of-type {\n",
       "        vertical-align: middle;\n",
       "    }\n",
       "\n",
       "    .dataframe tbody tr th {\n",
       "        vertical-align: top;\n",
       "    }\n",
       "\n",
       "    .dataframe thead th {\n",
       "        text-align: right;\n",
       "    }\n",
       "</style>\n",
       "<table border=\"1\" class=\"dataframe\">\n",
       "  <thead>\n",
       "    <tr style=\"text-align: right;\">\n",
       "      <th></th>\n",
       "      <th>0</th>\n",
       "      <th>1</th>\n",
       "      <th>2</th>\n",
       "      <th>3</th>\n",
       "      <th>4</th>\n",
       "      <th>5</th>\n",
       "      <th>...</th>\n",
       "      <th>298</th>\n",
       "      <th>299</th>\n",
       "      <th>300</th>\n",
       "      <th>301</th>\n",
       "      <th>302</th>\n",
       "      <th>303</th>\n",
       "    </tr>\n",
       "  </thead>\n",
       "  <tbody>\n",
       "    <tr>\n",
       "      <th>count</th>\n",
       "      <td>1022.000000</td>\n",
       "      <td>1022.000000</td>\n",
       "      <td>1022.000000</td>\n",
       "      <td>1022.000000</td>\n",
       "      <td>1022.000000</td>\n",
       "      <td>1022.000000</td>\n",
       "      <td>...</td>\n",
       "      <td>1022.000000</td>\n",
       "      <td>1022.000000</td>\n",
       "      <td>1022.000000</td>\n",
       "      <td>1022.000000</td>\n",
       "      <td>1022.000000</td>\n",
       "      <td>1022.000000</td>\n",
       "    </tr>\n",
       "    <tr>\n",
       "      <th>mean</th>\n",
       "      <td>0.007828</td>\n",
       "      <td>0.050881</td>\n",
       "      <td>0.010763</td>\n",
       "      <td>0.787671</td>\n",
       "      <td>0.142857</td>\n",
       "      <td>0.003914</td>\n",
       "      <td>...</td>\n",
       "      <td>3.934442</td>\n",
       "      <td>14.780822</td>\n",
       "      <td>3.440313</td>\n",
       "      <td>39.080235</td>\n",
       "      <td>6.277886</td>\n",
       "      <td>2007.829746</td>\n",
       "    </tr>\n",
       "    <tr>\n",
       "      <th>std</th>\n",
       "      <td>0.088171</td>\n",
       "      <td>0.219862</td>\n",
       "      <td>0.103237</td>\n",
       "      <td>0.409157</td>\n",
       "      <td>0.350098</td>\n",
       "      <td>0.062469</td>\n",
       "      <td>...</td>\n",
       "      <td>32.831010</td>\n",
       "      <td>55.423160</td>\n",
       "      <td>45.265717</td>\n",
       "      <td>335.892594</td>\n",
       "      <td>2.731375</td>\n",
       "      <td>1.333798</td>\n",
       "    </tr>\n",
       "    <tr>\n",
       "      <th>min</th>\n",
       "      <td>0.000000</td>\n",
       "      <td>0.000000</td>\n",
       "      <td>0.000000</td>\n",
       "      <td>0.000000</td>\n",
       "      <td>0.000000</td>\n",
       "      <td>0.000000</td>\n",
       "      <td>...</td>\n",
       "      <td>0.000000</td>\n",
       "      <td>0.000000</td>\n",
       "      <td>0.000000</td>\n",
       "      <td>0.000000</td>\n",
       "      <td>1.000000</td>\n",
       "      <td>2006.000000</td>\n",
       "    </tr>\n",
       "    <tr>\n",
       "      <th>25%</th>\n",
       "      <td>0.000000</td>\n",
       "      <td>0.000000</td>\n",
       "      <td>0.000000</td>\n",
       "      <td>1.000000</td>\n",
       "      <td>0.000000</td>\n",
       "      <td>0.000000</td>\n",
       "      <td>...</td>\n",
       "      <td>0.000000</td>\n",
       "      <td>0.000000</td>\n",
       "      <td>0.000000</td>\n",
       "      <td>0.000000</td>\n",
       "      <td>4.000000</td>\n",
       "      <td>2007.000000</td>\n",
       "    </tr>\n",
       "    <tr>\n",
       "      <th>50%</th>\n",
       "      <td>0.000000</td>\n",
       "      <td>0.000000</td>\n",
       "      <td>0.000000</td>\n",
       "      <td>1.000000</td>\n",
       "      <td>0.000000</td>\n",
       "      <td>0.000000</td>\n",
       "      <td>...</td>\n",
       "      <td>0.000000</td>\n",
       "      <td>0.000000</td>\n",
       "      <td>0.000000</td>\n",
       "      <td>0.000000</td>\n",
       "      <td>6.000000</td>\n",
       "      <td>2008.000000</td>\n",
       "    </tr>\n",
       "    <tr>\n",
       "      <th>75%</th>\n",
       "      <td>0.000000</td>\n",
       "      <td>0.000000</td>\n",
       "      <td>0.000000</td>\n",
       "      <td>1.000000</td>\n",
       "      <td>0.000000</td>\n",
       "      <td>0.000000</td>\n",
       "      <td>...</td>\n",
       "      <td>0.000000</td>\n",
       "      <td>0.000000</td>\n",
       "      <td>0.000000</td>\n",
       "      <td>0.000000</td>\n",
       "      <td>8.000000</td>\n",
       "      <td>2009.000000</td>\n",
       "    </tr>\n",
       "    <tr>\n",
       "      <th>max</th>\n",
       "      <td>1.000000</td>\n",
       "      <td>1.000000</td>\n",
       "      <td>1.000000</td>\n",
       "      <td>1.000000</td>\n",
       "      <td>1.000000</td>\n",
       "      <td>1.000000</td>\n",
       "      <td>...</td>\n",
       "      <td>508.000000</td>\n",
       "      <td>480.000000</td>\n",
       "      <td>738.000000</td>\n",
       "      <td>8300.000000</td>\n",
       "      <td>12.000000</td>\n",
       "      <td>2010.000000</td>\n",
       "    </tr>\n",
       "  </tbody>\n",
       "</table>\n",
       "<p>8 rows × 304 columns</p>\n",
       "</div>"
      ],
      "text/plain": [
       "               0            1            2            3            4    \\\n",
       "count  1022.000000  1022.000000  1022.000000  1022.000000  1022.000000   \n",
       "mean      0.007828     0.050881     0.010763     0.787671     0.142857   \n",
       "std       0.088171     0.219862     0.103237     0.409157     0.350098   \n",
       "min       0.000000     0.000000     0.000000     0.000000     0.000000   \n",
       "25%       0.000000     0.000000     0.000000     1.000000     0.000000   \n",
       "50%       0.000000     0.000000     0.000000     1.000000     0.000000   \n",
       "75%       0.000000     0.000000     0.000000     1.000000     0.000000   \n",
       "max       1.000000     1.000000     1.000000     1.000000     1.000000   \n",
       "\n",
       "               5    ...          298          299          300          301  \\\n",
       "count  1022.000000  ...  1022.000000  1022.000000  1022.000000  1022.000000   \n",
       "mean      0.003914  ...     3.934442    14.780822     3.440313    39.080235   \n",
       "std       0.062469  ...    32.831010    55.423160    45.265717   335.892594   \n",
       "min       0.000000  ...     0.000000     0.000000     0.000000     0.000000   \n",
       "25%       0.000000  ...     0.000000     0.000000     0.000000     0.000000   \n",
       "50%       0.000000  ...     0.000000     0.000000     0.000000     0.000000   \n",
       "75%       0.000000  ...     0.000000     0.000000     0.000000     0.000000   \n",
       "max       1.000000  ...   508.000000   480.000000   738.000000  8300.000000   \n",
       "\n",
       "               302          303  \n",
       "count  1022.000000  1022.000000  \n",
       "mean      6.277886  2007.829746  \n",
       "std       2.731375     1.333798  \n",
       "min       1.000000  2006.000000  \n",
       "25%       4.000000  2007.000000  \n",
       "50%       6.000000  2008.000000  \n",
       "75%       8.000000  2009.000000  \n",
       "max      12.000000  2010.000000  \n",
       "\n",
       "[8 rows x 304 columns]"
      ]
     },
     "execution_count": 84,
     "metadata": {},
     "output_type": "execute_result"
    }
   ],
   "source": [
    "pd.DataFrame(new_x_train).describe()"
   ]
  },
  {
   "cell_type": "markdown",
   "metadata": {
    "slideshow": {
     "slide_type": "slide"
    }
   },
   "source": [
    "### Да потренираме... отново\n"
   ]
  },
  {
   "cell_type": "code",
   "execution_count": 85,
   "metadata": {
    "slideshow": {
     "slide_type": "subslide"
    }
   },
   "outputs": [
    {
     "name": "stdout",
     "output_type": "stream",
     "text": [
      "train score:  0.9374779030406712\n",
      "test score:  -240433001.44012934\n"
     ]
    }
   ],
   "source": [
    "all_data_lr = LinearRegression().fit(new_x_train, y_train)\n",
    "print(\"train score: \", all_data_lr.score(new_x_train, y_train))\n",
    "print(\"test score: \", all_data_lr.score(new_x_test, y_test))"
   ]
  },
  {
   "cell_type": "markdown",
   "metadata": {
    "slideshow": {
     "slide_type": "slide"
    }
   },
   "source": [
    "Новите: 0.937, за тест - отрицателна оценка. Обяснение защо е възможна отрицателна оценка [в stackoverflow](https://stackoverflow.com/questions/23036866/scikit-learn-is-returning-coefficient-of-determination-r2-values-less-than-1) и в [документацията на sclearn](https://scikit-learn.org/stable/modules/generated/sklearn.metrics.r2_score.html). Накратко, константен модел ще има оценка 0, а оценка под нулата означава, че моделът е по-лош от константния. \n",
    "\n",
    "Ще пробваме да подобрим ситуацията с регуларизация. "
   ]
  },
  {
   "cell_type": "code",
   "execution_count": 86,
   "metadata": {
    "slideshow": {
     "slide_type": "subslide"
    }
   },
   "outputs": [
    {
     "name": "stdout",
     "output_type": "stream",
     "text": [
      "alpha: 0.01\n",
      "0.9374607177132871 0.8488214740142933\n",
      "\n",
      "alpha: 0.1\n",
      "0.9364454642419521 0.8596282428267922\n",
      "\n",
      "alpha: 1\n",
      "0.9227360656014941 0.8824267159987824\n",
      "\n",
      "alpha: 10\n",
      "0.8933107135132802 0.8922404784820501\n",
      "\n",
      "alpha: 100\n",
      "0.8524424288746798 0.8821692100273288\n",
      "\n"
     ]
    }
   ],
   "source": [
    "from sklearn.linear_model import Ridge\n",
    "\n",
    "alpha = [0.01, 0.1, 1, 10, 100]\n",
    "\n",
    "for a in alpha:\n",
    "    all_data_lr = Ridge(alpha = a).fit(new_x_train, y_train)\n",
    "    print('alpha:', a)\n",
    "    print(all_data_lr.score(new_x_train, y_train), all_data_lr.score(new_x_test, y_test))\n",
    "    print()"
   ]
  },
  {
   "cell_type": "markdown",
   "metadata": {
    "slideshow": {
     "slide_type": "slide"
    }
   },
   "source": [
    "Новите резултати при alpha= 10:\n",
    "\n",
    "трениране: 0.8933\n",
    "\n",
    "тест: 0.8922\n",
    "\n",
    "Моделът е доста по-добър и генерализира добре. Може и да изтиска още малко ако се търси в диапазона 0.1 до 100 на alpha."
   ]
  },
  {
   "cell_type": "markdown",
   "metadata": {
    "slideshow": {
     "slide_type": "slide"
    }
   },
   "source": [
    "### Още една трансформация (feature engineering)"
   ]
  },
  {
   "cell_type": "code",
   "execution_count": 89,
   "metadata": {
    "slideshow": {
     "slide_type": "subslide"
    }
   },
   "outputs": [
    {
     "data": {
      "image/png": "[encoded data removed]",
      "text/plain": [
       "<Figure size 576x288 with 2 Axes>"
      ]
     },
     "metadata": {
      "needs_background": "light"
     },
     "output_type": "display_data"
    }
   ],
   "source": [
    "plt.figure(figsize=(8, 4))\n",
    "plt.subplot(1, 2, 1)\n",
    "sns.distplot(y_train)\n",
    "plt.subplot(1, 2, 2)\n",
    "sns.distplot(np.log10(y_train));"
   ]
  },
  {
   "cell_type": "markdown",
   "metadata": {},
   "source": [
    "Тук имаше малко магия – първата дистрибуция ила long-tail форма. Понякога като прекараме такава дистрибуция през логаритъм, тя започва да изглежда по-стандартно. В случая (произволно) избрахме логаритъм при основа 10, което свежда нещата до що-годе стандартна дистрибуция."
   ]
  },
  {
   "cell_type": "code",
   "execution_count": 90,
   "metadata": {
    "slideshow": {
     "slide_type": "slide"
    }
   },
   "outputs": [
    {
     "name": "stdout",
     "output_type": "stream",
     "text": [
      "0.9440102727878052\n",
      "-26622.22324266047\n"
     ]
    }
   ],
   "source": [
    "all_data_lr = LinearRegression().fit(new_x_train, pd.np.log10(y_train))\n",
    "print(all_data_lr.score(new_x_train, np.log10(y_train)))\n",
    "print(all_data_lr.score(new_x_test, np.log10(y_test)))\n",
    "\n",
    "# Предишни резултати: \n",
    "# трейн: 0.893310713513\n",
    "# тест: 0.892240478482"
   ]
  },
  {
   "cell_type": "markdown",
   "metadata": {
    "collapsed": true,
    "slideshow": {
     "slide_type": "slide"
    }
   },
   "source": [
    "Отново има пренагаждане. Може да пробваме с регуляризация. Нека да потърсим подходящ `alpha` параметър:"
   ]
  },
  {
   "cell_type": "code",
   "execution_count": 91,
   "metadata": {
    "slideshow": {
     "slide_type": "subslide"
    }
   },
   "outputs": [
    {
     "name": "stdout",
     "output_type": "stream",
     "text": [
      "alpha: 0.01\n",
      "0.9439975012519929 0.8983736949620592\n",
      "\n",
      "alpha: 0.1\n",
      "0.943229831718568 0.9059958936362619\n",
      "\n",
      "alpha: 1\n",
      "0.9341947544847011 0.9186587324988609\n",
      "\n",
      "alpha: 10\n",
      "0.9145728136422795 0.9257768879730854\n",
      "\n",
      "alpha: 100\n",
      "0.8856716730211227 0.922058006344062\n",
      "\n"
     ]
    }
   ],
   "source": [
    "alphas = [0.01, 0.1, 1, 10, 100]\n",
    "for alpha in alphas:\n",
    "    all_data_lr = Ridge(alpha = alpha).fit(new_x_train, pd.np.log10(y_train))\n",
    "    print('alpha:', alpha)\n",
    "    print(all_data_lr.score(new_x_train, pd.np.log10(y_train)), all_data_lr.score(new_x_test, pd.np.log10(y_test)))\n",
    "    print()"
   ]
  },
  {
   "cell_type": "markdown",
   "metadata": {
    "slideshow": {
     "slide_type": "slide"
    }
   },
   "source": [
    "alpha: 10\n",
    "\n",
    "0.914572813642\n",
    "\n",
    "0.925776887973\n",
    "\n",
    "\n",
    "\n",
    "Хубава статия за още масажиране на данните: \n",
    "\n",
    "https://www.kaggle.com/pmarcelino/comprehensive-data-exploration-with-python/notebook"
   ]
  },
  {
   "cell_type": "markdown",
   "metadata": {
    "slideshow": {
     "slide_type": "slide"
    }
   },
   "source": [
    "### Последно - полиномни\n",
    "\n",
    "Може да ползваме трансформатора `PolynomialFeatures`, за да генерираме всички възможни полиноми от втора степен с входните данни:"
   ]
  },
  {
   "cell_type": "code",
   "execution_count": 92,
   "metadata": {
    "slideshow": {
     "slide_type": "subslide"
    }
   },
   "outputs": [
    {
     "name": "stdout",
     "output_type": "stream",
     "text": [
      "(1022, 304)\n",
      "(1022, 46665)\n"
     ]
    }
   ],
   "source": [
    "from sklearn.preprocessing import PolynomialFeatures\n",
    "\n",
    "poly_features = PolynomialFeatures(degree=2, interaction_only=False, include_bias=True)\n",
    "\n",
    "poly_features.fit(new_x_train)\n",
    "\n",
    "poly_x_train = poly_features.transform(new_x_train)\n",
    "poly_x_test = poly_features.transform(new_x_test)\n",
    "\n",
    "print(new_x_train.shape)\n",
    "print(poly_x_train.shape)"
   ]
  },
  {
   "cell_type": "markdown",
   "metadata": {},
   "source": [
    "Нека да видим резултата с различни регуляризации."
   ]
  },
  {
   "cell_type": "code",
   "execution_count": 93,
   "metadata": {
    "slideshow": {
     "slide_type": "subslide"
    }
   },
   "outputs": [
    {
     "name": "stdout",
     "output_type": "stream",
     "text": [
      "alpha: 10000000.0\n"
     ]
    },
    {
     "name": "stderr",
     "output_type": "stream",
     "text": [
      "C:\\Users\\HP\\anaconda3\\envs\\ml_course_2023\\lib\\site-packages\\sklearn\\linear_model\\_ridge.py:188: LinAlgWarning: Ill-conditioned matrix (rcond=9.56155e-17): result may not be accurate.\n",
      "  overwrite_a=False)\n"
     ]
    },
    {
     "name": "stdout",
     "output_type": "stream",
     "text": [
      "0.987828133134003 -0.8459169711608534\n",
      "\n",
      "alpha: 100000000.0\n",
      "0.9749803261238896 0.5566869902732761\n",
      "\n",
      "alpha: 1000000000.0\n",
      "0.9606070697618985 0.8285642929107262\n",
      "\n",
      "alpha: 10000000000.0\n",
      "0.9409678581336217 0.5370210014985528\n",
      "\n",
      "alpha: 100000000000.0\n",
      "0.9114683630178015 0.5186623902133037\n",
      "\n"
     ]
    }
   ],
   "source": [
    "for a in [10e6, 10e7, 10e8, 10e9, 10e10]:\n",
    "    print('alpha:', a)\n",
    "    all_data_lr = Ridge(alpha=a).fit(poly_x_train, pd.np.log10(y_train))\n",
    "    print(all_data_lr.score(poly_x_train, pd.np.log10(y_train)), all_data_lr.score(poly_x_test, pd.np.log10(y_test)))\n",
    "    print()"
   ]
  },
  {
   "cell_type": "markdown",
   "metadata": {},
   "source": [
    "Този модел прави стабилен overfitting – явно е твърде сложен.\n",
    "\n",
    "Като правило, когато има повече колони, отколкото редове, това се случва."
   ]
  },
  {
   "cell_type": "markdown",
   "metadata": {
    "slideshow": {
     "slide_type": "slide"
    }
   },
   "source": [
    "### Намерихме модел, да го събмитнем."
   ]
  },
  {
   "cell_type": "code",
   "execution_count": 94,
   "metadata": {
    "slideshow": {
     "slide_type": "subslide"
    }
   },
   "outputs": [],
   "source": [
    "train = pd.read_csv('data/house-prices/train.csv', index_col=['Id'])\n",
    "test = pd.read_csv('data/house-prices/test.csv', index_col=['Id'])\n",
    "\n",
    "def pipeline_data(data):\n",
    "    _numeric = data[numeric_column_names].fillna(0)\n",
    "    _categorical = data[categorical_columns].fillna(\"\")\n",
    "    _encoded = encode_categorical(_categorical, categorical_columns, encoders)\n",
    "    _one_hot_encoded = one_hot_encoder.transform(_encoded)\n",
    "    _merged = pd.np.concatenate([_one_hot_encoded.todense(), _numeric], axis=1)\n",
    "    return _merged"
   ]
  },
  {
   "cell_type": "code",
   "execution_count": 95,
   "metadata": {
    "slideshow": {
     "slide_type": "subslide"
    }
   },
   "outputs": [],
   "source": [
    "full_x = pipeline_data(train)\n",
    "full_y = train['SalePrice']\n",
    "\n",
    "# Fix test set missing data problems\n",
    "test['MSZoning'].fillna('RL', inplace=True)\n",
    "test['Utilities'].fillna('AllPub', inplace=True)\n",
    "test['Exterior1st'].fillna('VinylSd', inplace=True)\n",
    "test['Exterior2nd'].fillna('VinylSd', inplace=True)\n",
    "test['KitchenQual'].fillna('TA', inplace=True)\n",
    "test['Functional'].fillna('Typ', inplace=True)\n",
    "test['SaleType'].fillna('WD', inplace=True)\n",
    "\n",
    "test_set = pipeline_data(test)"
   ]
  },
  {
   "cell_type": "code",
   "execution_count": 96,
   "metadata": {
    "slideshow": {
     "slide_type": "subslide"
    }
   },
   "outputs": [],
   "source": [
    "ridge = Ridge(alpha=0.1).fit(full_x, pd.np.log10(full_y))"
   ]
  },
  {
   "cell_type": "code",
   "execution_count": 97,
   "metadata": {
    "slideshow": {
     "slide_type": "subslide"
    }
   },
   "outputs": [],
   "source": [
    "predictions = 10**ridge.predict(test_set)\n",
    "predictions_df = pd.DataFrame({\"Id\":test.index, \"SalePrice\":predictions})"
   ]
  },
  {
   "cell_type": "code",
   "execution_count": 98,
   "metadata": {},
   "outputs": [
    {
     "data": {
      "text/html": [
       "<div>\n",
       "<style scoped>\n",
       "    .dataframe tbody tr th:only-of-type {\n",
       "        vertical-align: middle;\n",
       "    }\n",
       "\n",
       "    .dataframe tbody tr th {\n",
       "        vertical-align: top;\n",
       "    }\n",
       "\n",
       "    .dataframe thead th {\n",
       "        text-align: right;\n",
       "    }\n",
       "</style>\n",
       "<table border=\"1\" class=\"dataframe\">\n",
       "  <thead>\n",
       "    <tr style=\"text-align: right;\">\n",
       "      <th></th>\n",
       "      <th>Id</th>\n",
       "      <th>SalePrice</th>\n",
       "    </tr>\n",
       "  </thead>\n",
       "  <tbody>\n",
       "    <tr>\n",
       "      <th>0</th>\n",
       "      <td>1461</td>\n",
       "      <td>120358.057284</td>\n",
       "    </tr>\n",
       "    <tr>\n",
       "      <th>1</th>\n",
       "      <td>1462</td>\n",
       "      <td>155362.310396</td>\n",
       "    </tr>\n",
       "    <tr>\n",
       "      <th>2</th>\n",
       "      <td>1463</td>\n",
       "      <td>181005.749466</td>\n",
       "    </tr>\n",
       "    <tr>\n",
       "      <th>3</th>\n",
       "      <td>1464</td>\n",
       "      <td>201610.093152</td>\n",
       "    </tr>\n",
       "    <tr>\n",
       "      <th>4</th>\n",
       "      <td>1465</td>\n",
       "      <td>195592.024893</td>\n",
       "    </tr>\n",
       "  </tbody>\n",
       "</table>\n",
       "</div>"
      ],
      "text/plain": [
       "     Id      SalePrice\n",
       "0  1461  120358.057284\n",
       "1  1462  155362.310396\n",
       "2  1463  181005.749466\n",
       "3  1464  201610.093152\n",
       "4  1465  195592.024893"
      ]
     },
     "execution_count": 98,
     "metadata": {},
     "output_type": "execute_result"
    }
   ],
   "source": [
    "predictions_df.head()"
   ]
  },
  {
   "cell_type": "code",
   "execution_count": 99,
   "metadata": {},
   "outputs": [],
   "source": [
    "predictions_df.to_csv(\"submit_me.csv\", index=False)"
   ]
  },
  {
   "cell_type": "markdown",
   "metadata": {
    "slideshow": {
     "slide_type": "slide"
    }
   },
   "source": [
    "### Заключения\n",
    "\n",
    "1. Има ли значение дали правим регресия или класификация?\n",
    "Ако колоната, която предсказваме съдържа ['скъпа', 'евтина', 'средна']\n",
    "\n",
    "2. Има ли значение кой модел ползваме - LinearRegression, RandomForest, Neural Network, kNN?\n",
    "\n",
    "3. Колко кобминации можем да направим за модела?\n",
    "\n",
    "4. 4 часа разглеждане на данни, чистене и оформяне на pipeline и фичъри. 20 минути трениране и оптимизиране на модели."
   ]
  },
  {
   "cell_type": "markdown",
   "metadata": {
    "slideshow": {
     "slide_type": "slide"
    }
   },
   "source": [
    "### За домашно - прочетете документацията: \n",
    "\n",
    "  * http://scikit-learn.org/stable/modules/preprocessing.html\n",
    "  * https://seaborn.pydata.org/\n",
    "  * https://pandas.pydata.org/pandas-docs/stable/\n"
   ]
  },
  {
   "cell_type": "markdown",
   "metadata": {},
   "source": [
    "### За упражнение:\n",
    "\n",
    "Изпробвайте Random Forest и kNN (или други) регресори за текущите данни. Подобряват ли се резултатите?"
   ]
  }
 ],
 "metadata": {
  "celltoolbar": "Slideshow",
  "kernelspec": {
   "display_name": "Python 3",
   "language": "python",
   "name": "python3"
  },
  "language_info": {
   "codemirror_mode": {
    "name": "ipython",
    "version": 3
   },
   "file_extension": ".py",
   "mimetype": "text/x-python",
   "name": "python",
   "nbconvert_exporter": "python",
   "pygments_lexer": "ipython3",
   "version": "3.6.13"
  }
 },
 "nbformat": 4,
 "nbformat_minor": 2
}
